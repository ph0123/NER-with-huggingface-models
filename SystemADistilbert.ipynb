{
 "cells": [
  {
   "cell_type": "code",
   "execution_count": 1,
   "metadata": {
    "id": "8FxXIeADH8rp"
   },
   "outputs": [],
   "source": [
    "#Uncomment this cell if you have not already installed these libraries.\n",
    "#!pip install -q seqeval\n",
    "#!pip install -q transformers\n",
    "#!pip install -q datasets\n",
    "#!pip install -U accelerate\n",
    "#!pip install -U transformers\n",
    "#pip install torch torchvision torchaudio\n",
    "#!pip install torchinfo\n",
    "#!pip install transformers[torch] for GPU running."
   ]
  },
  {
   "cell_type": "code",
   "execution_count": 1,
   "metadata": {
    "id": "4qI8dGKYH8rs"
   },
   "outputs": [],
   "source": [
    "import torch\n",
    "from transformers import AutoTokenizer, AutoModelForTokenClassification, Trainer, TrainingArguments\n",
    "from datasets import load_dataset, load_metric, Dataset, DatasetDict\n",
    "import numpy as np\n",
    "from seqeval.metrics import f1_score, precision_score, recall_score, classification_report"
   ]
  },
  {
   "cell_type": "code",
   "execution_count": 3,
   "metadata": {
    "id": "Lm0VjhDMH8ru"
   },
   "outputs": [],
   "source": [
    "def read_file(file_path):\n",
    "    with open(file_path, \"r\",encoding=\"utf8\") as f:\n",
    "        content = f.read().strip()\n",
    "        sentences = content.split(\"\\n\\n\")\n",
    "        data = []\n",
    "        for sentence in sentences:\n",
    "            tokens = sentence.split(\"\\n\")\n",
    "            token_data = []\n",
    "            for token in tokens:\n",
    "                token_data.append(token.split())\n",
    "            data.append(token_data)\n",
    "    return data"
   ]
  },
  {
   "cell_type": "code",
   "execution_count": 4,
   "metadata": {
    "id": "__qz3gSxH8rv"
   },
   "outputs": [],
   "source": [
    "train_data = read_file(\"train_en.tsv\")\n",
    "validation_data = read_file(\"dev_en.tsv\")\n",
    "test_data = read_file(\"test_en.tsv\")\n",
    "#note test data has only 30 labels. Missing 'I-BIO' comparing to training and validation sets"
   ]
  },
  {
   "cell_type": "code",
   "execution_count": 5,
   "metadata": {
    "colab": {
     "base_uri": "https://localhost:8080/"
    },
    "id": "qC9QTy1JH8rw",
    "outputId": "6e95c0af-f0a2-4fb3-dc14-24c3292595d0"
   },
   "outputs": [
    {
     "name": "stdout",
     "output_type": "stream",
     "text": [
      "131280\n",
      "16410\n",
      "16454\n"
     ]
    }
   ],
   "source": [
    "print(len(train_data))\n",
    "print(len(validation_data))\n",
    "print(len(test_data))"
   ]
  },
  {
   "cell_type": "code",
   "execution_count": 6,
   "metadata": {},
   "outputs": [],
   "source": [
    "#Select 10% to do this task because of limitation of time and memory. 2.5% for trainingset.\n",
    "import random\n",
    "random.seed(1234) #make sure training data has 31 labels as original data\n",
    "train_data = random.sample(train_data, int(0.025*len(train_data)))\n",
    "\n",
    "random.seed(30) #make sure test data has 30 labels as original data\n",
    "test_data = random.sample(test_data, int(0.15*len(test_data)))\n",
    "random.seed(2) #make sure validation data has 31 labels as original data\n",
    "validation_data = random.sample(validation_data, int(0.15*len(validation_data)))"
   ]
  },
  {
   "cell_type": "code",
   "execution_count": 7,
   "metadata": {},
   "outputs": [
    {
     "name": "stdout",
     "output_type": "stream",
     "text": [
      "3282\n",
      "2461\n",
      "2468\n"
     ]
    }
   ],
   "source": [
    "print(len(train_data))\n",
    "print(len(validation_data))\n",
    "print(len(test_data))\n",
    "#Ratio: 4:3:3 It is not a good ratio. However, with limitations of machine and time. It is good to learn and practice."
   ]
  },
  {
   "cell_type": "code",
   "execution_count": 8,
   "metadata": {
    "id": "gd0Rs29OH8rx"
   },
   "outputs": [],
   "source": [
    "def convert_to_dataset(data, label_map):\n",
    "    formatted_data = {\"id\": [], \"tokens\": [], \"ner_tags\": []}\n",
    "    i= 0\n",
    "    for sentence in data:\n",
    "        tokens = [token_data[1] for token_data in sentence]\n",
    "        ner_tags = [label_map[token_data[2]] for token_data in sentence]\n",
    "        formatted_data[\"id\"].append(i)\n",
    "        formatted_data[\"tokens\"].append(tokens)\n",
    "        formatted_data[\"ner_tags\"].append(ner_tags)\n",
    "        i+=1\n",
    "    return Dataset.from_dict(formatted_data)"
   ]
  },
  {
   "cell_type": "code",
   "execution_count": 9,
   "metadata": {
    "colab": {
     "base_uri": "https://localhost:8080/"
    },
    "id": "80L088KCH8rx",
    "outputId": "b930a889-0c70-46c3-c978-5114ce6650ff"
   },
   "outputs": [
    {
     "data": {
      "text/plain": [
       "['B-ANIM',\n",
       " 'B-BIO',\n",
       " 'B-CEL',\n",
       " 'B-DIS',\n",
       " 'B-EVE',\n",
       " 'B-FOOD',\n",
       " 'B-INST',\n",
       " 'B-LOC',\n",
       " 'B-MEDIA',\n",
       " 'B-MYTH',\n",
       " 'B-ORG',\n",
       " 'B-PER',\n",
       " 'B-PLANT',\n",
       " 'B-TIME',\n",
       " 'B-VEHI',\n",
       " 'I-ANIM',\n",
       " 'I-BIO',\n",
       " 'I-CEL',\n",
       " 'I-DIS',\n",
       " 'I-EVE',\n",
       " 'I-FOOD',\n",
       " 'I-INST',\n",
       " 'I-LOC',\n",
       " 'I-MEDIA',\n",
       " 'I-MYTH',\n",
       " 'I-ORG',\n",
       " 'I-PER',\n",
       " 'I-PLANT',\n",
       " 'I-TIME',\n",
       " 'I-VEHI',\n",
       " 'O']"
      ]
     },
     "execution_count": 9,
     "metadata": {},
     "output_type": "execute_result"
    }
   ],
   "source": [
    "label_list = sorted(list(set([token_data[2] for sentence in train_data for token_data in sentence])))\n",
    "label_map = {label: i for i, label in enumerate(label_list)}\n",
    "label_list"
   ]
  },
  {
   "cell_type": "code",
   "execution_count": 10,
   "metadata": {
    "id": "OMA_3UG8H8ry"
   },
   "outputs": [],
   "source": [
    "train_dataset = convert_to_dataset(train_data, label_map)\n",
    "validation_dataset = convert_to_dataset(validation_data, label_map)\n",
    "test_dataset = convert_to_dataset(test_data, label_map)"
   ]
  },
  {
   "cell_type": "code",
   "execution_count": 11,
   "metadata": {},
   "outputs": [
    {
     "name": "stdout",
     "output_type": "stream",
     "text": [
      "Ratio of each Label in \n",
      "\t\t training\t\t:\t\tValidation\t\t:\t\tTesting\n",
      "B-ANIM      \t 0.4748677248677249 \t\t 0.19973544973544974 \t\t\t 0.3253968253968254\n",
      "B-BIO       \t 0.5              \t\t 0.4              \t\t\t 0.1             \n",
      "B-CEL       \t 0.6716417910447762 \t\t 0.2835820895522388 \t\t\t 0.04477611940298507\n",
      "B-DIS       \t 0.37748344370860926 \t\t 0.4139072847682119 \t\t\t 0.20860927152317882\n",
      "B-EVE       \t 0.38125          \t\t 0.30625          \t\t\t 0.3125          \n",
      "B-FOOD      \t 0.3438985736925515 \t\t 0.5213946117274167 \t\t\t 0.1347068145800317\n",
      "B-INST      \t 0.5789473684210527 \t\t 0.2631578947368421 \t\t\t 0.15789473684210525\n",
      "B-LOC       \t 0.32884834663626 \t\t 0.2725199543899658 \t\t\t 0.3986316989737742\n",
      "B-MEDIA     \t 0.42178770949720673 \t\t 0.39664804469273746 \t\t\t 0.18156424581005587\n",
      "B-MYTH      \t 0.41935483870967744 \t\t 0.2903225806451613 \t\t\t 0.2903225806451613\n",
      "B-ORG       \t 0.4222078760490639 \t\t 0.26081342801807617 \t\t\t 0.31697869593285993\n",
      "B-PER       \t 0.4355951696377228 \t\t 0.32259919493962047 \t\t\t 0.2418056354226567\n",
      "B-PLANT     \t 0.4048507462686567 \t\t 0.31529850746268656 \t\t\t 0.2798507462686567\n",
      "B-TIME      \t 0.445859872611465 \t\t 0.267515923566879 \t\t\t 0.28662420382165604\n",
      "B-VEHI      \t 0.4              \t\t 0.45714285714285713 \t\t\t 0.14285714285714285\n",
      "I-ANIM      \t 0.4166666666666667 \t\t 0.19827586206896552 \t\t\t 0.3850574712643678\n",
      "I-BIO       \t 0.3333333333333333 \t\t 0.6666666666666666 \t\t\t 0.0             \n",
      "I-CEL       \t 0.8              \t\t 0.12             \t\t\t 0.08            \n",
      "I-DIS       \t 0.4119170984455959 \t\t 0.38860103626943004 \t\t\t 0.19948186528497408\n",
      "I-EVE       \t 0.34545454545454546 \t\t 0.3236363636363636 \t\t\t 0.33090909090909093\n",
      "I-FOOD      \t 0.2850467289719626 \t\t 0.5841121495327103 \t\t\t 0.1308411214953271\n",
      "I-INST      \t 0.5              \t\t 0.07142857142857142 \t\t\t 0.42857142857142855\n",
      "I-LOC       \t 0.3083290222452147 \t\t 0.26332126228660113 \t\t\t 0.4283497154681842\n",
      "I-MEDIA     \t 0.3960923623445826 \t\t 0.42095914742451157 \t\t\t 0.18294849023090587\n",
      "I-MYTH      \t 0.42857142857142855 \t\t 0.42857142857142855 \t\t\t 0.14285714285714285\n",
      "I-ORG       \t 0.40414258188824664 \t\t 0.27167630057803466 \t\t\t 0.3241811175337187\n",
      "I-PER       \t 0.42265267688996505 \t\t 0.327683615819209 \t\t\t 0.24966370729082593\n",
      "I-PLANT     \t 0.3155080213903743 \t\t 0.35294117647058826 \t\t\t 0.3315508021390374\n",
      "I-TIME      \t 0.3888888888888889 \t\t 0.3148148148148148 \t\t\t 0.2962962962962963\n",
      "I-VEHI      \t 0.43902439024390244 \t\t 0.36585365853658536 \t\t\t 0.1951219512195122\n",
      "O           \t 0.3945515608235511 \t\t 0.31717382057354 \t\t\t 0.288274618602909\n",
      "{'B-ANIM': 359, 'B-BIO': 5, 'B-CEL': 45, 'B-DIS': 228, 'B-EVE': 61, 'B-FOOD': 217, 'B-INST': 11, 'B-LOC': 1442, 'B-MEDIA': 151, 'B-MYTH': 13, 'B-ORG': 654, 'B-PER': 1515, 'B-PLANT': 217, 'B-TIME': 70, 'B-VEHI': 14, 'I-ANIM': 145, 'I-BIO': 1, 'I-CEL': 20, 'I-DIS': 159, 'I-EVE': 95, 'I-FOOD': 61, 'I-INST': 7, 'I-LOC': 596, 'I-MEDIA': 223, 'I-MYTH': 3, 'I-ORG': 839, 'I-PER': 1571, 'I-PLANT': 59, 'I-TIME': 42, 'I-VEHI': 18, 'O': 62147}\n",
      "{'B-ANIM': 151, 'B-BIO': 4, 'B-CEL': 19, 'B-DIS': 250, 'B-EVE': 49, 'B-FOOD': 329, 'B-INST': 5, 'B-LOC': 1195, 'B-MEDIA': 142, 'B-MYTH': 9, 'B-ORG': 404, 'B-PER': 1122, 'B-PLANT': 169, 'B-TIME': 42, 'B-VEHI': 16, 'I-ANIM': 69, 'I-BIO': 2, 'I-CEL': 3, 'I-DIS': 150, 'I-EVE': 89, 'I-FOOD': 125, 'I-INST': 1, 'I-LOC': 509, 'I-MEDIA': 237, 'I-MYTH': 3, 'I-ORG': 564, 'I-PER': 1218, 'I-PLANT': 66, 'I-TIME': 34, 'I-VEHI': 15, 'O': 49959}\n",
      "{'B-ANIM': 246, 'B-BIO': 1, 'B-CEL': 3, 'B-DIS': 126, 'B-EVE': 50, 'B-FOOD': 85, 'B-INST': 3, 'B-LOC': 1748, 'B-MEDIA': 65, 'B-MYTH': 9, 'B-ORG': 491, 'B-PER': 841, 'B-PLANT': 150, 'B-TIME': 45, 'B-VEHI': 5, 'I-ANIM': 134, 'I-BIO': 0, 'I-CEL': 2, 'I-DIS': 77, 'I-EVE': 91, 'I-FOOD': 28, 'I-INST': 6, 'I-LOC': 828, 'I-MEDIA': 103, 'I-MYTH': 1, 'I-ORG': 673, 'I-PER': 928, 'I-PLANT': 62, 'I-TIME': 32, 'I-VEHI': 8, 'O': 45407}\n"
     ]
    }
   ],
   "source": [
    "#counting each labels on the data\n",
    "Counting_Train = {}\n",
    "Counting_Validations = {}\n",
    "Counting_Test = {}\n",
    "Counting_Sum = {}\n",
    "for i in label_list:\n",
    "    Counting_Train[i] = 0\n",
    "    Counting_Validations[i] = 0\n",
    "    Counting_Test[i] = 0\n",
    "    Counting_Sum[i] = 0\n",
    "for sentence in train_data:\n",
    "    for token_data in sentence:\n",
    "        Counting_Train[token_data[2]] +=1\n",
    "        Counting_Sum[token_data[2]] +=1\n",
    "\n",
    "for sentence in validation_data:\n",
    "    for token_data in sentence:\n",
    "        Counting_Validations[token_data[2]] +=1\n",
    "        Counting_Sum[token_data[2]] +=1\n",
    "\n",
    "for sentence in test_data:\n",
    "    for token_data in sentence:\n",
    "        Counting_Test[token_data[2]] +=1\n",
    "        Counting_Sum[token_data[2]] +=1\n",
    "\n",
    "print('Ratio of each Label in \\n\\t\\t training\\t\\t:\\t\\tValidation\\t\\t:\\t\\tTesting')\n",
    "for i in label_list:\n",
    "    print('{message: <10}'.format(message=i), ' \\t','{message: <16}'.format(message=Counting_Train[i]/Counting_Sum[i]),'\\t\\t','{message: <16}'.format(message=Counting_Validations[i]/Counting_Sum[i]),\n",
    "          '\\t\\t\\t','{message: <16}'.format(message=Counting_Test[i]/Counting_Sum[i]))\n",
    "    \n",
    "print(Counting_Train)\n",
    "print(Counting_Validations)\n",
    "print(Counting_Test)"
   ]
  },
  {
   "cell_type": "code",
   "execution_count": 12,
   "metadata": {
    "id": "1SQpdgb8H8ry"
   },
   "outputs": [],
   "source": [
    "en_datasets = DatasetDict({\n",
    "    \"train\": train_dataset,\n",
    "    \"validation\": validation_dataset,\n",
    "    \"test\": test_dataset,\n",
    "})"
   ]
  },
  {
   "cell_type": "code",
   "execution_count": 13,
   "metadata": {
    "colab": {
     "base_uri": "https://localhost:8080/"
    },
    "id": "l9VkYmHuH8rz",
    "outputId": "bf0de29d-345b-4f89-8405-65a4ba0d0d96"
   },
   "outputs": [
    {
     "data": {
      "text/plain": [
       "DatasetDict({\n",
       "    train: Dataset({\n",
       "        features: ['id', 'tokens', 'ner_tags'],\n",
       "        num_rows: 3282\n",
       "    })\n",
       "    validation: Dataset({\n",
       "        features: ['id', 'tokens', 'ner_tags'],\n",
       "        num_rows: 2461\n",
       "    })\n",
       "    test: Dataset({\n",
       "        features: ['id', 'tokens', 'ner_tags'],\n",
       "        num_rows: 2468\n",
       "    })\n",
       "})"
      ]
     },
     "execution_count": 13,
     "metadata": {},
     "output_type": "execute_result"
    }
   ],
   "source": [
    "en_datasets"
   ]
  },
  {
   "cell_type": "markdown",
   "metadata": {
    "id": "dQLmXrQbH8rz"
   },
   "source": [
    "# Tokenizer and Model"
   ]
  },
  {
   "cell_type": "code",
   "execution_count": 14,
   "metadata": {
    "colab": {
     "base_uri": "https://localhost:8080/"
    },
    "id": "dFmf73O8H8r0",
    "outputId": "34dabc51-a5c3-4e7c-f3d7-341946c62711"
   },
   "outputs": [
    {
     "name": "stderr",
     "output_type": "stream",
     "text": [
      "Some weights of DistilBertForTokenClassification were not initialized from the model checkpoint at distilbert-base-cased and are newly initialized: ['classifier.bias', 'classifier.weight']\n",
      "You should probably TRAIN this model on a down-stream task to be able to use it for predictions and inference.\n"
     ]
    }
   ],
   "source": [
    "#model_name = \"bert-base-cased\"\n",
    "model_name = \"distilbert-base-cased\"\n",
    "tokenizer = AutoTokenizer.from_pretrained(model_name)\n",
    "model = AutoModelForTokenClassification.from_pretrained(model_name, num_labels=len(label_list))"
   ]
  },
  {
   "cell_type": "markdown",
   "metadata": {
    "id": "j9Q_zs1YH8r1"
   },
   "source": [
    "# Define Metrics and Tokenization"
   ]
  },
  {
   "cell_type": "code",
   "execution_count": 15,
   "metadata": {
    "id": "Ny9PJmOTH8r1"
   },
   "outputs": [],
   "source": [
    "def compute_metrics(eval_prediction):\n",
    "    predictions, labels = eval_prediction\n",
    "    predictions = np.argmax(predictions, axis=2)\n",
    "\n",
    "\n",
    "    # Remove ignored index (special tokens)\n",
    "    true_predictions = [\n",
    "        [label_list[p] for (p, l) in zip(prediction, label) if l != -100]\n",
    "        for prediction, label in zip(predictions, labels)\n",
    "    ]\n",
    "    true_labels = [\n",
    "        [label_list[l] for (p, l) in zip(prediction, label) if l != -100]\n",
    "        for prediction, label in zip(predictions, labels)\n",
    "    ]\n",
    "\n",
    "\n",
    "    return {\n",
    "        \"precision\": precision_score(true_labels, true_predictions),\n",
    "        \"recall\": recall_score(true_labels, true_predictions),\n",
    "        \"f1\": f1_score(true_labels, true_predictions),\n",
    "        \"classification_report\": classification_report(true_labels, true_predictions), #https://stackoverflow.com/questions/77143185/classification-report-in-ner-models-seqeval-vs-sickit-learn\n",
    "    }\n",
    "\n",
    "\n",
    "def tokenize_and_align_labels(examples):\n",
    "    tokenized_inputs = tokenizer(\n",
    "        examples[\"tokens\"], truncation=True, is_split_into_words=True, padding=True\n",
    "    )\n",
    "    labels = []\n",
    "    for i, label in enumerate(examples[\"ner_tags\"]):\n",
    "        word_ids = tokenized_inputs.word_ids(batch_index=i)\n",
    "        previous_word_idx = None\n",
    "        label_ids = []\n",
    "        for word_idx in word_ids:\n",
    "            if word_idx is None:\n",
    "                label_ids.append(-100)\n",
    "            elif word_idx != previous_word_idx:\n",
    "                label_ids.append(label[word_idx])\n",
    "            else:\n",
    "                label_ids.append(-100)\n",
    "            previous_word_idx = word_idx\n",
    "        labels.append(label_ids)\n",
    "    tokenized_inputs[\"labels\"] = labels\n",
    "    return tokenized_inputs"
   ]
  },
  {
   "cell_type": "markdown",
   "metadata": {
    "id": "Fv33u6Z8KwdY"
   },
   "source": [
    "# Tokenize Datasets and Set Training Arguments"
   ]
  },
  {
   "cell_type": "code",
   "execution_count": 16,
   "metadata": {
    "colab": {
     "base_uri": "https://localhost:8080/",
     "height": 113,
     "referenced_widgets": [
      "fabcbffaee84405c8a8e0e48cfe1a6c9",
      "e853e4302c004a4cb12d15f9282cfbf5",
      "24e99868fe0b477b9d696b049c1c612b",
      "59ff2238ba93470db36c154c3319c645",
      "074e7aa290144e4982020beee4eee092",
      "c6f477f508aa40e8b01831e2b0ee2e15",
      "eab594ff9d4947f3b2b0971a4aadab42",
      "2588cf3ef2dc4d609dfe79985e39f226",
      "194497f41c984b7ba3128ccb5aa9f5af",
      "195f4da31920466c98168e7dfe9afe9f",
      "0e68a595c5124265ba7f591ae14ffdd4",
      "fe7d87f990f74207b8ece9c6dca31a0a",
      "b90c1b4de72e449eb98000e85f90aed8",
      "e2344ec0e3b44c3db26f76d257e56e82",
      "546f7ac4274841a293abd6d397601c97",
      "4b63115810564435a73cda9e0e8901af",
      "7a5fdf4d74b5479e99c89b50e64abad4",
      "535a578cc51146f09b3784059896d5c0",
      "f5741e71e3a4418b9d45cc8b11572f4b",
      "478562af9481401d9a74726742ecea13",
      "166cde47b7e84eb4a740c7139cccefc8",
      "515826e234114fbf9627b7928f499aba",
      "5d5682a9539d4da59cdb629b75b3d183",
      "afcd8c435b47481ea180d363b55c6b62",
      "b4319fe6cc774c48b7aa2ed590990114",
      "a6b2680d2f9540e095e4a59436e2157f",
      "097535575f194d3fbf370752a434508e",
      "83d8241318d940c78f9f75e32a81119b",
      "a099f6569fda45609086417463084507",
      "673e2347653e4136867f23e548a1a6d9",
      "1544268bf6c94dbfa8952080676c5c21",
      "946cac72d1274134b7152df833837ae6",
      "e1bf13e1427e410b947f25133c370e5c"
     ]
    },
    "id": "0Ad3wheWH8r2",
    "outputId": "6ed69229-05e9-48c8-b150-8c027a8118ae"
   },
   "outputs": [
    {
     "data": {
      "application/vnd.jupyter.widget-view+json": {
       "model_id": "04d5ad5dfece49bc90b52fa19dd21adc",
       "version_major": 2,
       "version_minor": 0
      },
      "text/plain": [
       "Map:   0%|          | 0/3282 [00:00<?, ? examples/s]"
      ]
     },
     "metadata": {},
     "output_type": "display_data"
    },
    {
     "data": {
      "application/vnd.jupyter.widget-view+json": {
       "model_id": "ded17f3c5bee4daaa6274003d490fb6a",
       "version_major": 2,
       "version_minor": 0
      },
      "text/plain": [
       "Map:   0%|          | 0/2461 [00:00<?, ? examples/s]"
      ]
     },
     "metadata": {},
     "output_type": "display_data"
    },
    {
     "data": {
      "application/vnd.jupyter.widget-view+json": {
       "model_id": "6caae03a88684d7ea9c400cf53d8a617",
       "version_major": 2,
       "version_minor": 0
      },
      "text/plain": [
       "Map:   0%|          | 0/2468 [00:00<?, ? examples/s]"
      ]
     },
     "metadata": {},
     "output_type": "display_data"
    }
   ],
   "source": [
    "tokenized_datasets = en_datasets.map(tokenize_and_align_labels, batched=True)\n"
   ]
  },
  {
   "cell_type": "code",
   "execution_count": 17,
   "metadata": {
    "id": "v5taOYMuL6td"
   },
   "outputs": [],
   "source": [
    "\n",
    "training_args = TrainingArguments(\n",
    "    output_dir=\"./results\",\n",
    "    evaluation_strategy=\"steps\",\n",
    "    eval_steps=200,\n",
    "    save_steps=200,\n",
    "    num_train_epochs=10,\n",
    "    per_device_train_batch_size=32,\n",
    "    per_device_eval_batch_size=32,\n",
    "    logging_steps=100,\n",
    "    learning_rate=5e-5,\n",
    "    load_best_model_at_end=True,\n",
    "    metric_for_best_model=\"f1\",\n",
    ")"
   ]
  },
  {
   "cell_type": "markdown",
   "metadata": {
    "id": "NQi6PtmaNIHF"
   },
   "source": [
    "# Define Data Collator and Initialize"
   ]
  },
  {
   "cell_type": "code",
   "execution_count": 18,
   "metadata": {
    "id": "D41TBvWdH8r2"
   },
   "outputs": [],
   "source": [
    "def data_collator(data):\n",
    "    input_ids = [torch.tensor(item[\"input_ids\"]) for item in data]\n",
    "    attention_mask = [torch.tensor(item[\"attention_mask\"]) for item in data]\n",
    "    labels = [torch.tensor(item[\"labels\"]) for item in data]\n",
    "\n",
    "\n",
    "    input_ids = torch.nn.utils.rnn.pad_sequence(input_ids, batch_first=True, padding_value=tokenizer.pad_token_id)\n",
    "    attention_mask = torch.nn.utils.rnn.pad_sequence(attention_mask, batch_first=True, padding_value=0)\n",
    "    labels = torch.nn.utils.rnn.pad_sequence(labels, batch_first=True, padding_value=-100)\n",
    "\n",
    "\n",
    "    return {\n",
    "        \"input_ids\": input_ids,\n",
    "        \"attention_mask\": attention_mask,\n",
    "        \"labels\": labels,\n",
    "    }"
   ]
  },
  {
   "cell_type": "code",
   "execution_count": 19,
   "metadata": {
    "id": "uxsc89ZzH8r2"
   },
   "outputs": [],
   "source": [
    "#because of limitations of times, and computer. I will select 2/8 training set for training. Randomlly.\n",
    "trainer = Trainer(\n",
    "    model=model,\n",
    "    args=training_args,\n",
    "    train_dataset=tokenized_datasets[\"train\"],\n",
    "    eval_dataset=tokenized_datasets[\"validation\"],\n",
    "    data_collator=data_collator,\n",
    "    tokenizer=tokenizer,\n",
    "    compute_metrics=compute_metrics,\n",
    ")"
   ]
  },
  {
   "cell_type": "code",
   "execution_count": 20,
   "metadata": {
    "colab": {
     "base_uri": "https://localhost:8080/",
     "height": 75
    },
    "id": "60lDRqRCH8r2",
    "outputId": "7473d9ce-d038-4eee-d6a2-9f18ef78af70"
   },
   "outputs": [
    {
     "data": {
      "application/vnd.jupyter.widget-view+json": {
       "model_id": "41ff3a63649648d5a4c0c00de77705ce",
       "version_major": 2,
       "version_minor": 0
      },
      "text/plain": [
       "  0%|          | 0/1030 [00:00<?, ?it/s]"
      ]
     },
     "metadata": {},
     "output_type": "display_data"
    },
    {
     "name": "stdout",
     "output_type": "stream",
     "text": [
      "{'loss': 0.3692, 'learning_rate': 4.514563106796117e-05, 'epoch': 0.97}\n",
      "{'loss': 0.0742, 'learning_rate': 4.029126213592233e-05, 'epoch': 1.94}\n"
     ]
    },
    {
     "data": {
      "application/vnd.jupyter.widget-view+json": {
       "model_id": "b2e5ed8a38364fdeb4f564ddcacf39d0",
       "version_major": 2,
       "version_minor": 0
      },
      "text/plain": [
       "  0%|          | 0/77 [00:00<?, ?it/s]"
      ]
     },
     "metadata": {},
     "output_type": "display_data"
    },
    {
     "name": "stderr",
     "output_type": "stream",
     "text": [
      "c:\\Users\\cnp\\Anaconda3\\envs\\ML2023\\Lib\\site-packages\\seqeval\\metrics\\v1.py:57: UndefinedMetricWarning: Precision and F-score are ill-defined and being set to 0.0 in labels with no predicted samples. Use `zero_division` parameter to control this behavior.\n",
      "  _warn_prf(average, modifier, msg_start, len(result))\n"
     ]
    },
    {
     "name": "stdout",
     "output_type": "stream",
     "text": [
      "{'eval_loss': 0.08763223886489868, 'eval_precision': 0.8865039694207586, 'eval_recall': 0.771889400921659, 'eval_f1': 0.8252360749965787, 'eval_classification_report': '              precision    recall  f1-score   support\\n\\n        ANIM       0.40      0.32      0.36       151\\n         BIO       0.00      0.00      0.00         4\\n         CEL       0.86      0.63      0.73        19\\n         DIS       0.61      0.28      0.38       250\\n         EVE       0.71      0.94      0.81        49\\n        FOOD       0.61      0.17      0.27       329\\n        INST       0.00      0.00      0.00         5\\n         LOC       0.96      0.97      0.97      1195\\n       MEDIA       0.85      0.93      0.89       142\\n        MYTH       0.00      0.00      0.00         9\\n         ORG       0.84      0.91      0.88       404\\n         PER       0.98      0.97      0.98      1122\\n       PLANT       0.38      0.12      0.18       169\\n        TIME       0.58      0.17      0.26        42\\n        VEHI       0.00      0.00      0.00        16\\n\\n   micro avg       0.89      0.77      0.83      3906\\n   macro avg       0.52      0.43      0.45      3906\\nweighted avg       0.84      0.77      0.78      3906\\n', 'eval_runtime': 134.1461, 'eval_samples_per_second': 18.346, 'eval_steps_per_second': 0.574, 'epoch': 1.94}\n",
      "{'loss': 0.0424, 'learning_rate': 3.54368932038835e-05, 'epoch': 2.91}\n",
      "{'loss': 0.024, 'learning_rate': 3.058252427184466e-05, 'epoch': 3.88}\n"
     ]
    },
    {
     "data": {
      "application/vnd.jupyter.widget-view+json": {
       "model_id": "5e97d2ec17fa4723a581278ab9152a5f",
       "version_major": 2,
       "version_minor": 0
      },
      "text/plain": [
       "  0%|          | 0/77 [00:00<?, ?it/s]"
      ]
     },
     "metadata": {},
     "output_type": "display_data"
    },
    {
     "name": "stderr",
     "output_type": "stream",
     "text": [
      "c:\\Users\\cnp\\Anaconda3\\envs\\ML2023\\Lib\\site-packages\\seqeval\\metrics\\v1.py:57: UndefinedMetricWarning: Precision and F-score are ill-defined and being set to 0.0 in labels with no predicted samples. Use `zero_division` parameter to control this behavior.\n",
      "  _warn_prf(average, modifier, msg_start, len(result))\n"
     ]
    },
    {
     "name": "stdout",
     "output_type": "stream",
     "text": [
      "{'eval_loss': 0.09912322461605072, 'eval_precision': 0.8597014925373134, 'eval_recall': 0.8110599078341014, 'eval_f1': 0.8346726386510341, 'eval_classification_report': '              precision    recall  f1-score   support\\n\\n        ANIM       0.51      0.40      0.45       151\\n         BIO       0.00      0.00      0.00         4\\n         CEL       1.00      0.68      0.81        19\\n         DIS       0.55      0.49      0.52       250\\n         EVE       0.73      0.92      0.81        49\\n        FOOD       0.40      0.29      0.34       329\\n        INST       0.50      0.20      0.29         5\\n         LOC       0.96      0.98      0.97      1195\\n       MEDIA       0.91      0.91      0.91       142\\n        MYTH       1.00      0.11      0.20         9\\n         ORG       0.89      0.91      0.90       404\\n         PER       0.98      0.98      0.98      1122\\n       PLANT       0.48      0.25      0.33       169\\n        TIME       0.57      0.31      0.40        42\\n        VEHI       0.50      0.44      0.47        16\\n\\n   micro avg       0.86      0.81      0.83      3906\\n   macro avg       0.66      0.52      0.56      3906\\nweighted avg       0.83      0.81      0.82      3906\\n', 'eval_runtime': 137.7398, 'eval_samples_per_second': 17.867, 'eval_steps_per_second': 0.559, 'epoch': 3.88}\n",
      "{'loss': 0.0157, 'learning_rate': 2.5728155339805826e-05, 'epoch': 4.85}\n",
      "{'loss': 0.0091, 'learning_rate': 2.0873786407766992e-05, 'epoch': 5.83}\n"
     ]
    },
    {
     "data": {
      "application/vnd.jupyter.widget-view+json": {
       "model_id": "cf720f2eef9940ffb17a76f099b5a526",
       "version_major": 2,
       "version_minor": 0
      },
      "text/plain": [
       "  0%|          | 0/77 [00:00<?, ?it/s]"
      ]
     },
     "metadata": {},
     "output_type": "display_data"
    },
    {
     "name": "stderr",
     "output_type": "stream",
     "text": [
      "c:\\Users\\cnp\\Anaconda3\\envs\\ML2023\\Lib\\site-packages\\seqeval\\metrics\\v1.py:57: UndefinedMetricWarning: Precision and F-score are ill-defined and being set to 0.0 in labels with no predicted samples. Use `zero_division` parameter to control this behavior.\n",
      "  _warn_prf(average, modifier, msg_start, len(result))\n"
     ]
    },
    {
     "name": "stdout",
     "output_type": "stream",
     "text": [
      "{'eval_loss': 0.1102716401219368, 'eval_precision': 0.8519404572036151, 'eval_recall': 0.8205325140809012, 'eval_f1': 0.8359415753781951, 'eval_classification_report': '              precision    recall  f1-score   support\\n\\n        ANIM       0.50      0.38      0.43       151\\n         BIO       0.00      0.00      0.00         4\\n         CEL       0.75      0.63      0.69        19\\n         DIS       0.61      0.42      0.50       250\\n         EVE       0.74      0.92      0.82        49\\n        FOOD       0.44      0.38      0.41       329\\n        INST       0.20      0.40      0.27         5\\n         LOC       0.97      0.98      0.97      1195\\n       MEDIA       0.90      0.92      0.91       142\\n        MYTH       1.00      0.33      0.50         9\\n         ORG       0.89      0.90      0.89       404\\n         PER       0.98      0.98      0.98      1122\\n       PLANT       0.41      0.40      0.41       169\\n        TIME       0.56      0.33      0.42        42\\n        VEHI       0.45      0.56      0.50        16\\n\\n   micro avg       0.85      0.82      0.84      3906\\n   macro avg       0.63      0.57      0.58      3906\\nweighted avg       0.84      0.82      0.83      3906\\n', 'eval_runtime': 127.4793, 'eval_samples_per_second': 19.305, 'eval_steps_per_second': 0.604, 'epoch': 5.83}\n",
      "{'loss': 0.0063, 'learning_rate': 1.6019417475728158e-05, 'epoch': 6.8}\n",
      "{'loss': 0.005, 'learning_rate': 1.116504854368932e-05, 'epoch': 7.77}\n"
     ]
    },
    {
     "data": {
      "application/vnd.jupyter.widget-view+json": {
       "model_id": "3bf30942cfd0479aba82421511092b1a",
       "version_major": 2,
       "version_minor": 0
      },
      "text/plain": [
       "  0%|          | 0/77 [00:00<?, ?it/s]"
      ]
     },
     "metadata": {},
     "output_type": "display_data"
    },
    {
     "name": "stderr",
     "output_type": "stream",
     "text": [
      "c:\\Users\\cnp\\Anaconda3\\envs\\ML2023\\Lib\\site-packages\\seqeval\\metrics\\v1.py:57: UndefinedMetricWarning: Precision and F-score are ill-defined and being set to 0.0 in labels with no predicted samples. Use `zero_division` parameter to control this behavior.\n",
      "  _warn_prf(average, modifier, msg_start, len(result))\n"
     ]
    },
    {
     "name": "stdout",
     "output_type": "stream",
     "text": [
      "{'eval_loss': 0.11784430593252182, 'eval_precision': 0.8343949044585988, 'eval_recall': 0.8384536610343062, 'eval_f1': 0.8364193589579875, 'eval_classification_report': '              precision    recall  f1-score   support\\n\\n        ANIM       0.49      0.46      0.47       151\\n         BIO       0.00      0.00      0.00         4\\n         CEL       0.61      0.58      0.59        19\\n         DIS       0.57      0.60      0.58       250\\n         EVE       0.83      0.92      0.87        49\\n        FOOD       0.43      0.39      0.41       329\\n        INST       0.33      0.40      0.36         5\\n         LOC       0.97      0.97      0.97      1195\\n       MEDIA       0.88      0.92      0.90       142\\n        MYTH       1.00      0.33      0.50         9\\n         ORG       0.89      0.91      0.90       404\\n         PER       0.97      0.98      0.98      1122\\n       PLANT       0.39      0.44      0.41       169\\n        TIME       0.50      0.33      0.40        42\\n        VEHI       0.65      0.69      0.67        16\\n\\n   micro avg       0.83      0.84      0.84      3906\\n   macro avg       0.63      0.59      0.60      3906\\nweighted avg       0.83      0.84      0.83      3906\\n', 'eval_runtime': 126.3636, 'eval_samples_per_second': 19.476, 'eval_steps_per_second': 0.609, 'epoch': 7.77}\n",
      "{'loss': 0.0031, 'learning_rate': 6.310679611650486e-06, 'epoch': 8.74}\n",
      "{'loss': 0.0026, 'learning_rate': 1.4563106796116506e-06, 'epoch': 9.71}\n"
     ]
    },
    {
     "data": {
      "application/vnd.jupyter.widget-view+json": {
       "model_id": "dbff5151c4564086831adbfd80f6a382",
       "version_major": 2,
       "version_minor": 0
      },
      "text/plain": [
       "  0%|          | 0/77 [00:00<?, ?it/s]"
      ]
     },
     "metadata": {},
     "output_type": "display_data"
    },
    {
     "name": "stderr",
     "output_type": "stream",
     "text": [
      "c:\\Users\\cnp\\Anaconda3\\envs\\ML2023\\Lib\\site-packages\\seqeval\\metrics\\v1.py:57: UndefinedMetricWarning: Precision and F-score are ill-defined and being set to 0.0 in labels with no predicted samples. Use `zero_division` parameter to control this behavior.\n",
      "  _warn_prf(average, modifier, msg_start, len(result))\n"
     ]
    },
    {
     "name": "stdout",
     "output_type": "stream",
     "text": [
      "{'eval_loss': 0.1271553784608841, 'eval_precision': 0.8390834191555098, 'eval_recall': 0.8343573988735279, 'eval_f1': 0.8367137355584081, 'eval_classification_report': '              precision    recall  f1-score   support\\n\\n        ANIM       0.48      0.46      0.47       151\\n         BIO       0.00      0.00      0.00         4\\n         CEL       0.65      0.58      0.61        19\\n         DIS       0.56      0.58      0.57       250\\n         EVE       0.84      0.94      0.88        49\\n        FOOD       0.42      0.38      0.40       329\\n        INST       0.40      0.40      0.40         5\\n         LOC       0.97      0.97      0.97      1195\\n       MEDIA       0.90      0.92      0.91       142\\n        MYTH       1.00      0.33      0.50         9\\n         ORG       0.89      0.92      0.90       404\\n         PER       0.97      0.98      0.98      1122\\n       PLANT       0.40      0.39      0.39       169\\n        TIME       0.56      0.33      0.42        42\\n        VEHI       0.61      0.69      0.65        16\\n\\n   micro avg       0.84      0.83      0.84      3906\\n   macro avg       0.64      0.59      0.60      3906\\nweighted avg       0.83      0.83      0.83      3906\\n', 'eval_runtime': 126.6874, 'eval_samples_per_second': 19.426, 'eval_steps_per_second': 0.608, 'epoch': 9.71}\n",
      "{'train_runtime': 5619.6813, 'train_samples_per_second': 5.84, 'train_steps_per_second': 0.183, 'train_loss': 0.05362762269898526, 'epoch': 10.0}\n"
     ]
    },
    {
     "data": {
      "text/plain": [
       "TrainOutput(global_step=1030, training_loss=0.05362762269898526, metrics={'train_runtime': 5619.6813, 'train_samples_per_second': 5.84, 'train_steps_per_second': 0.183, 'train_loss': 0.05362762269898526, 'epoch': 10.0})"
      ]
     },
     "execution_count": 20,
     "metadata": {},
     "output_type": "execute_result"
    }
   ],
   "source": [
    "trainer.train()\n"
   ]
  },
  {
   "cell_type": "code",
   "execution_count": 21,
   "metadata": {
    "id": "A1vSTBJ4H8r2"
   },
   "outputs": [
    {
     "data": {
      "application/vnd.jupyter.widget-view+json": {
       "model_id": "9bf49716481e499984e46a177bb21848",
       "version_major": 2,
       "version_minor": 0
      },
      "text/plain": [
       "  0%|          | 0/77 [00:00<?, ?it/s]"
      ]
     },
     "metadata": {},
     "output_type": "display_data"
    },
    {
     "name": "stderr",
     "output_type": "stream",
     "text": [
      "c:\\Users\\cnp\\Anaconda3\\envs\\ML2023\\Lib\\site-packages\\seqeval\\metrics\\v1.py:57: UndefinedMetricWarning: Precision and F-score are ill-defined and being set to 0.0 in labels with no predicted samples. Use `zero_division` parameter to control this behavior.\n",
      "  _warn_prf(average, modifier, msg_start, len(result))\n"
     ]
    }
   ],
   "source": [
    "validation_results  = trainer.evaluate(eval_dataset=tokenized_datasets['validation'])"
   ]
  },
  {
   "cell_type": "code",
   "execution_count": 22,
   "metadata": {
    "id": "wUl5DQOCR9DW"
   },
   "outputs": [
    {
     "data": {
      "application/vnd.jupyter.widget-view+json": {
       "model_id": "53c7b6d24c4545069f77189c49a1eb02",
       "version_major": 2,
       "version_minor": 0
      },
      "text/plain": [
       "  0%|          | 0/78 [00:00<?, ?it/s]"
      ]
     },
     "metadata": {},
     "output_type": "display_data"
    }
   ],
   "source": [
    "test_results = trainer.evaluate(eval_dataset=tokenized_datasets['test'])"
   ]
  },
  {
   "cell_type": "code",
   "execution_count": 23,
   "metadata": {},
   "outputs": [],
   "source": [
    "#print(test_results['eval_classification_report'])"
   ]
  },
  {
   "cell_type": "code",
   "execution_count": 24,
   "metadata": {
    "id": "WRCCgGymH8r3"
   },
   "outputs": [
    {
     "data": {
      "application/vnd.jupyter.widget-view+json": {
       "model_id": "c2bd0faa3800497a9cf670bd483d328d",
       "version_major": 2,
       "version_minor": 0
      },
      "text/plain": [
       "  0%|          | 0/103 [00:00<?, ?it/s]"
      ]
     },
     "metadata": {},
     "output_type": "display_data"
    }
   ],
   "source": [
    "train_results = trainer.evaluate(eval_dataset=tokenized_datasets['train'])"
   ]
  },
  {
   "cell_type": "code",
   "execution_count": 25,
   "metadata": {
    "id": "hqkGbQEhH8r3"
   },
   "outputs": [
    {
     "data": {
      "text/plain": [
       "================================================================================\n",
       "Layer (type:depth-idx)                                  Param #\n",
       "================================================================================\n",
       "DistilBertForTokenClassification                        --\n",
       "├─DistilBertModel: 1-1                                  --\n",
       "│    └─Embeddings: 2-1                                  --\n",
       "│    │    └─Embedding: 3-1                              22,268,928\n",
       "│    │    └─Embedding: 3-2                              393,216\n",
       "│    │    └─LayerNorm: 3-3                              1,536\n",
       "│    │    └─Dropout: 3-4                                --\n",
       "│    └─Transformer: 2-2                                 --\n",
       "│    │    └─ModuleList: 3-5                             42,527,232\n",
       "├─Dropout: 1-2                                          --\n",
       "├─Linear: 1-3                                           23,839\n",
       "================================================================================\n",
       "Total params: 65,214,751\n",
       "Trainable params: 65,214,751\n",
       "Non-trainable params: 0\n",
       "================================================================================"
      ]
     },
     "execution_count": 25,
     "metadata": {},
     "output_type": "execute_result"
    }
   ],
   "source": [
    "#!pip install torchinfo\n",
    "from torchinfo import summary\n",
    "summary(model)"
   ]
  },
  {
   "cell_type": "code",
   "execution_count": 26,
   "metadata": {},
   "outputs": [
    {
     "name": "stdout",
     "output_type": "stream",
     "text": [
      "              precision    recall  f1-score   support\n",
      "\n",
      "        ANIM       0.99      0.99      0.99       359\n",
      "         BIO       0.67      0.40      0.50         5\n",
      "         CEL       1.00      1.00      1.00        45\n",
      "         DIS       1.00      1.00      1.00       228\n",
      "         EVE       1.00      1.00      1.00        61\n",
      "        FOOD       1.00      1.00      1.00       217\n",
      "        INST       1.00      0.91      0.95        11\n",
      "         LOC       1.00      1.00      1.00      1442\n",
      "       MEDIA       0.99      1.00      1.00       151\n",
      "        MYTH       1.00      1.00      1.00        13\n",
      "         ORG       1.00      1.00      1.00       654\n",
      "         PER       1.00      1.00      1.00      1515\n",
      "       PLANT       0.99      1.00      0.99       217\n",
      "        TIME       1.00      0.99      0.99        70\n",
      "        VEHI       1.00      1.00      1.00        14\n",
      "\n",
      "   micro avg       1.00      1.00      1.00      5002\n",
      "   macro avg       0.98      0.95      0.96      5002\n",
      "weighted avg       1.00      1.00      1.00      5002\n",
      "\n",
      "              precision    recall  f1-score   support\n",
      "\n",
      "        ANIM       0.48      0.46      0.47       151\n",
      "         BIO       0.00      0.00      0.00         4\n",
      "         CEL       0.65      0.58      0.61        19\n",
      "         DIS       0.56      0.58      0.57       250\n",
      "         EVE       0.84      0.94      0.88        49\n",
      "        FOOD       0.42      0.38      0.40       329\n",
      "        INST       0.40      0.40      0.40         5\n",
      "         LOC       0.97      0.97      0.97      1195\n",
      "       MEDIA       0.90      0.92      0.91       142\n",
      "        MYTH       1.00      0.33      0.50         9\n",
      "         ORG       0.89      0.92      0.90       404\n",
      "         PER       0.97      0.98      0.98      1122\n",
      "       PLANT       0.40      0.39      0.39       169\n",
      "        TIME       0.56      0.33      0.42        42\n",
      "        VEHI       0.61      0.69      0.65        16\n",
      "\n",
      "   micro avg       0.84      0.83      0.84      3906\n",
      "   macro avg       0.64      0.59      0.60      3906\n",
      "weighted avg       0.83      0.83      0.83      3906\n",
      "\n",
      "              precision    recall  f1-score   support\n",
      "\n",
      "        ANIM       0.51      0.58      0.54       246\n",
      "         BIO       0.00      0.00      0.00         1\n",
      "         CEL       0.00      0.00      0.00         3\n",
      "         DIS       0.63      0.58      0.60       126\n",
      "         EVE       0.83      0.86      0.84        50\n",
      "        FOOD       0.38      0.32      0.34        85\n",
      "        INST       0.00      0.00      0.00         3\n",
      "         LOC       0.97      0.97      0.97      1748\n",
      "       MEDIA       0.86      0.97      0.91        65\n",
      "        MYTH       1.00      0.78      0.88         9\n",
      "         ORG       0.87      0.93      0.90       491\n",
      "         PER       0.97      0.99      0.98       841\n",
      "       PLANT       0.47      0.54      0.50       150\n",
      "        TIME       0.83      0.53      0.65        45\n",
      "        VEHI       0.25      0.60      0.35         5\n",
      "\n",
      "   micro avg       0.87      0.89      0.88      3868\n",
      "   macro avg       0.57      0.58      0.56      3868\n",
      "weighted avg       0.88      0.89      0.88      3868\n",
      "\n"
     ]
    }
   ],
   "source": [
    "print(train_results['eval_classification_report'])\n",
    "print(validation_results['eval_classification_report'])\n",
    "print(test_results['eval_classification_report'])"
   ]
  },
  {
   "cell_type": "code",
   "execution_count": 27,
   "metadata": {},
   "outputs": [],
   "source": [
    "trainer.save_model(\"Models\\\\Best model distillbert after 10 epochs - SystemA\")"
   ]
  }
 ],
 "metadata": {
  "colab": {
   "provenance": []
  },
  "kernelspec": {
   "display_name": "Python 3 (ipykernel)",
   "language": "python",
   "name": "python3"
  },
  "language_info": {
   "codemirror_mode": {
    "name": "ipython",
    "version": 3
   },
   "file_extension": ".py",
   "mimetype": "text/x-python",
   "name": "python",
   "nbconvert_exporter": "python",
   "pygments_lexer": "ipython3",
   "version": "3.11.4"
  },
  "widgets": {
   "application/vnd.jupyter.widget-state+json": {
    "074e7aa290144e4982020beee4eee092": {
     "model_module": "@jupyter-widgets/base",
     "model_module_version": "1.2.0",
     "model_name": "LayoutModel",
     "state": {
      "_model_module": "@jupyter-widgets/base",
      "_model_module_version": "1.2.0",
      "_model_name": "LayoutModel",
      "_view_count": null,
      "_view_module": "@jupyter-widgets/base",
      "_view_module_version": "1.2.0",
      "_view_name": "LayoutView",
      "align_content": null,
      "align_items": null,
      "align_self": null,
      "border": null,
      "bottom": null,
      "display": null,
      "flex": null,
      "flex_flow": null,
      "grid_area": null,
      "grid_auto_columns": null,
      "grid_auto_flow": null,
      "grid_auto_rows": null,
      "grid_column": null,
      "grid_gap": null,
      "grid_row": null,
      "grid_template_areas": null,
      "grid_template_columns": null,
      "grid_template_rows": null,
      "height": null,
      "justify_content": null,
      "justify_items": null,
      "left": null,
      "margin": null,
      "max_height": null,
      "max_width": null,
      "min_height": null,
      "min_width": null,
      "object_fit": null,
      "object_position": null,
      "order": null,
      "overflow": null,
      "overflow_x": null,
      "overflow_y": null,
      "padding": null,
      "right": null,
      "top": null,
      "visibility": null,
      "width": null
     }
    },
    "097535575f194d3fbf370752a434508e": {
     "model_module": "@jupyter-widgets/base",
     "model_module_version": "1.2.0",
     "model_name": "LayoutModel",
     "state": {
      "_model_module": "@jupyter-widgets/base",
      "_model_module_version": "1.2.0",
      "_model_name": "LayoutModel",
      "_view_count": null,
      "_view_module": "@jupyter-widgets/base",
      "_view_module_version": "1.2.0",
      "_view_name": "LayoutView",
      "align_content": null,
      "align_items": null,
      "align_self": null,
      "border": null,
      "bottom": null,
      "display": null,
      "flex": null,
      "flex_flow": null,
      "grid_area": null,
      "grid_auto_columns": null,
      "grid_auto_flow": null,
      "grid_auto_rows": null,
      "grid_column": null,
      "grid_gap": null,
      "grid_row": null,
      "grid_template_areas": null,
      "grid_template_columns": null,
      "grid_template_rows": null,
      "height": null,
      "justify_content": null,
      "justify_items": null,
      "left": null,
      "margin": null,
      "max_height": null,
      "max_width": null,
      "min_height": null,
      "min_width": null,
      "object_fit": null,
      "object_position": null,
      "order": null,
      "overflow": null,
      "overflow_x": null,
      "overflow_y": null,
      "padding": null,
      "right": null,
      "top": null,
      "visibility": null,
      "width": null
     }
    },
    "0e68a595c5124265ba7f591ae14ffdd4": {
     "model_module": "@jupyter-widgets/controls",
     "model_module_version": "1.5.0",
     "model_name": "DescriptionStyleModel",
     "state": {
      "_model_module": "@jupyter-widgets/controls",
      "_model_module_version": "1.5.0",
      "_model_name": "DescriptionStyleModel",
      "_view_count": null,
      "_view_module": "@jupyter-widgets/base",
      "_view_module_version": "1.2.0",
      "_view_name": "StyleView",
      "description_width": ""
     }
    },
    "1544268bf6c94dbfa8952080676c5c21": {
     "model_module": "@jupyter-widgets/controls",
     "model_module_version": "1.5.0",
     "model_name": "ProgressStyleModel",
     "state": {
      "_model_module": "@jupyter-widgets/controls",
      "_model_module_version": "1.5.0",
      "_model_name": "ProgressStyleModel",
      "_view_count": null,
      "_view_module": "@jupyter-widgets/base",
      "_view_module_version": "1.2.0",
      "_view_name": "StyleView",
      "bar_color": null,
      "description_width": ""
     }
    },
    "166cde47b7e84eb4a740c7139cccefc8": {
     "model_module": "@jupyter-widgets/base",
     "model_module_version": "1.2.0",
     "model_name": "LayoutModel",
     "state": {
      "_model_module": "@jupyter-widgets/base",
      "_model_module_version": "1.2.0",
      "_model_name": "LayoutModel",
      "_view_count": null,
      "_view_module": "@jupyter-widgets/base",
      "_view_module_version": "1.2.0",
      "_view_name": "LayoutView",
      "align_content": null,
      "align_items": null,
      "align_self": null,
      "border": null,
      "bottom": null,
      "display": null,
      "flex": null,
      "flex_flow": null,
      "grid_area": null,
      "grid_auto_columns": null,
      "grid_auto_flow": null,
      "grid_auto_rows": null,
      "grid_column": null,
      "grid_gap": null,
      "grid_row": null,
      "grid_template_areas": null,
      "grid_template_columns": null,
      "grid_template_rows": null,
      "height": null,
      "justify_content": null,
      "justify_items": null,
      "left": null,
      "margin": null,
      "max_height": null,
      "max_width": null,
      "min_height": null,
      "min_width": null,
      "object_fit": null,
      "object_position": null,
      "order": null,
      "overflow": null,
      "overflow_x": null,
      "overflow_y": null,
      "padding": null,
      "right": null,
      "top": null,
      "visibility": null,
      "width": null
     }
    },
    "194497f41c984b7ba3128ccb5aa9f5af": {
     "model_module": "@jupyter-widgets/controls",
     "model_module_version": "1.5.0",
     "model_name": "ProgressStyleModel",
     "state": {
      "_model_module": "@jupyter-widgets/controls",
      "_model_module_version": "1.5.0",
      "_model_name": "ProgressStyleModel",
      "_view_count": null,
      "_view_module": "@jupyter-widgets/base",
      "_view_module_version": "1.2.0",
      "_view_name": "StyleView",
      "bar_color": null,
      "description_width": ""
     }
    },
    "195f4da31920466c98168e7dfe9afe9f": {
     "model_module": "@jupyter-widgets/base",
     "model_module_version": "1.2.0",
     "model_name": "LayoutModel",
     "state": {
      "_model_module": "@jupyter-widgets/base",
      "_model_module_version": "1.2.0",
      "_model_name": "LayoutModel",
      "_view_count": null,
      "_view_module": "@jupyter-widgets/base",
      "_view_module_version": "1.2.0",
      "_view_name": "LayoutView",
      "align_content": null,
      "align_items": null,
      "align_self": null,
      "border": null,
      "bottom": null,
      "display": null,
      "flex": null,
      "flex_flow": null,
      "grid_area": null,
      "grid_auto_columns": null,
      "grid_auto_flow": null,
      "grid_auto_rows": null,
      "grid_column": null,
      "grid_gap": null,
      "grid_row": null,
      "grid_template_areas": null,
      "grid_template_columns": null,
      "grid_template_rows": null,
      "height": null,
      "justify_content": null,
      "justify_items": null,
      "left": null,
      "margin": null,
      "max_height": null,
      "max_width": null,
      "min_height": null,
      "min_width": null,
      "object_fit": null,
      "object_position": null,
      "order": null,
      "overflow": null,
      "overflow_x": null,
      "overflow_y": null,
      "padding": null,
      "right": null,
      "top": null,
      "visibility": null,
      "width": null
     }
    },
    "24e99868fe0b477b9d696b049c1c612b": {
     "model_module": "@jupyter-widgets/controls",
     "model_module_version": "1.5.0",
     "model_name": "FloatProgressModel",
     "state": {
      "_dom_classes": [],
      "_model_module": "@jupyter-widgets/controls",
      "_model_module_version": "1.5.0",
      "_model_name": "FloatProgressModel",
      "_view_count": null,
      "_view_module": "@jupyter-widgets/controls",
      "_view_module_version": "1.5.0",
      "_view_name": "ProgressView",
      "bar_style": "success",
      "description": "",
      "description_tooltip": null,
      "layout": "IPY_MODEL_2588cf3ef2dc4d609dfe79985e39f226",
      "max": 131280,
      "min": 0,
      "orientation": "horizontal",
      "style": "IPY_MODEL_194497f41c984b7ba3128ccb5aa9f5af",
      "value": 131280
     }
    },
    "2588cf3ef2dc4d609dfe79985e39f226": {
     "model_module": "@jupyter-widgets/base",
     "model_module_version": "1.2.0",
     "model_name": "LayoutModel",
     "state": {
      "_model_module": "@jupyter-widgets/base",
      "_model_module_version": "1.2.0",
      "_model_name": "LayoutModel",
      "_view_count": null,
      "_view_module": "@jupyter-widgets/base",
      "_view_module_version": "1.2.0",
      "_view_name": "LayoutView",
      "align_content": null,
      "align_items": null,
      "align_self": null,
      "border": null,
      "bottom": null,
      "display": null,
      "flex": null,
      "flex_flow": null,
      "grid_area": null,
      "grid_auto_columns": null,
      "grid_auto_flow": null,
      "grid_auto_rows": null,
      "grid_column": null,
      "grid_gap": null,
      "grid_row": null,
      "grid_template_areas": null,
      "grid_template_columns": null,
      "grid_template_rows": null,
      "height": null,
      "justify_content": null,
      "justify_items": null,
      "left": null,
      "margin": null,
      "max_height": null,
      "max_width": null,
      "min_height": null,
      "min_width": null,
      "object_fit": null,
      "object_position": null,
      "order": null,
      "overflow": null,
      "overflow_x": null,
      "overflow_y": null,
      "padding": null,
      "right": null,
      "top": null,
      "visibility": null,
      "width": null
     }
    },
    "478562af9481401d9a74726742ecea13": {
     "model_module": "@jupyter-widgets/controls",
     "model_module_version": "1.5.0",
     "model_name": "ProgressStyleModel",
     "state": {
      "_model_module": "@jupyter-widgets/controls",
      "_model_module_version": "1.5.0",
      "_model_name": "ProgressStyleModel",
      "_view_count": null,
      "_view_module": "@jupyter-widgets/base",
      "_view_module_version": "1.2.0",
      "_view_name": "StyleView",
      "bar_color": null,
      "description_width": ""
     }
    },
    "4b63115810564435a73cda9e0e8901af": {
     "model_module": "@jupyter-widgets/base",
     "model_module_version": "1.2.0",
     "model_name": "LayoutModel",
     "state": {
      "_model_module": "@jupyter-widgets/base",
      "_model_module_version": "1.2.0",
      "_model_name": "LayoutModel",
      "_view_count": null,
      "_view_module": "@jupyter-widgets/base",
      "_view_module_version": "1.2.0",
      "_view_name": "LayoutView",
      "align_content": null,
      "align_items": null,
      "align_self": null,
      "border": null,
      "bottom": null,
      "display": null,
      "flex": null,
      "flex_flow": null,
      "grid_area": null,
      "grid_auto_columns": null,
      "grid_auto_flow": null,
      "grid_auto_rows": null,
      "grid_column": null,
      "grid_gap": null,
      "grid_row": null,
      "grid_template_areas": null,
      "grid_template_columns": null,
      "grid_template_rows": null,
      "height": null,
      "justify_content": null,
      "justify_items": null,
      "left": null,
      "margin": null,
      "max_height": null,
      "max_width": null,
      "min_height": null,
      "min_width": null,
      "object_fit": null,
      "object_position": null,
      "order": null,
      "overflow": null,
      "overflow_x": null,
      "overflow_y": null,
      "padding": null,
      "right": null,
      "top": null,
      "visibility": null,
      "width": null
     }
    },
    "515826e234114fbf9627b7928f499aba": {
     "model_module": "@jupyter-widgets/controls",
     "model_module_version": "1.5.0",
     "model_name": "DescriptionStyleModel",
     "state": {
      "_model_module": "@jupyter-widgets/controls",
      "_model_module_version": "1.5.0",
      "_model_name": "DescriptionStyleModel",
      "_view_count": null,
      "_view_module": "@jupyter-widgets/base",
      "_view_module_version": "1.2.0",
      "_view_name": "StyleView",
      "description_width": ""
     }
    },
    "535a578cc51146f09b3784059896d5c0": {
     "model_module": "@jupyter-widgets/controls",
     "model_module_version": "1.5.0",
     "model_name": "DescriptionStyleModel",
     "state": {
      "_model_module": "@jupyter-widgets/controls",
      "_model_module_version": "1.5.0",
      "_model_name": "DescriptionStyleModel",
      "_view_count": null,
      "_view_module": "@jupyter-widgets/base",
      "_view_module_version": "1.2.0",
      "_view_name": "StyleView",
      "description_width": ""
     }
    },
    "546f7ac4274841a293abd6d397601c97": {
     "model_module": "@jupyter-widgets/controls",
     "model_module_version": "1.5.0",
     "model_name": "HTMLModel",
     "state": {
      "_dom_classes": [],
      "_model_module": "@jupyter-widgets/controls",
      "_model_module_version": "1.5.0",
      "_model_name": "HTMLModel",
      "_view_count": null,
      "_view_module": "@jupyter-widgets/controls",
      "_view_module_version": "1.5.0",
      "_view_name": "HTMLView",
      "description": "",
      "description_tooltip": null,
      "layout": "IPY_MODEL_166cde47b7e84eb4a740c7139cccefc8",
      "placeholder": "​",
      "style": "IPY_MODEL_515826e234114fbf9627b7928f499aba",
      "value": " 16410/16410 [00:06&lt;00:00, 2200.65 examples/s]"
     }
    },
    "59ff2238ba93470db36c154c3319c645": {
     "model_module": "@jupyter-widgets/controls",
     "model_module_version": "1.5.0",
     "model_name": "HTMLModel",
     "state": {
      "_dom_classes": [],
      "_model_module": "@jupyter-widgets/controls",
      "_model_module_version": "1.5.0",
      "_model_name": "HTMLModel",
      "_view_count": null,
      "_view_module": "@jupyter-widgets/controls",
      "_view_module_version": "1.5.0",
      "_view_name": "HTMLView",
      "description": "",
      "description_tooltip": null,
      "layout": "IPY_MODEL_195f4da31920466c98168e7dfe9afe9f",
      "placeholder": "​",
      "style": "IPY_MODEL_0e68a595c5124265ba7f591ae14ffdd4",
      "value": " 131280/131280 [00:42&lt;00:00, 3282.76 examples/s]"
     }
    },
    "5d5682a9539d4da59cdb629b75b3d183": {
     "model_module": "@jupyter-widgets/controls",
     "model_module_version": "1.5.0",
     "model_name": "HBoxModel",
     "state": {
      "_dom_classes": [],
      "_model_module": "@jupyter-widgets/controls",
      "_model_module_version": "1.5.0",
      "_model_name": "HBoxModel",
      "_view_count": null,
      "_view_module": "@jupyter-widgets/controls",
      "_view_module_version": "1.5.0",
      "_view_name": "HBoxView",
      "box_style": "",
      "children": [
       "IPY_MODEL_afcd8c435b47481ea180d363b55c6b62",
       "IPY_MODEL_b4319fe6cc774c48b7aa2ed590990114",
       "IPY_MODEL_a6b2680d2f9540e095e4a59436e2157f"
      ],
      "layout": "IPY_MODEL_097535575f194d3fbf370752a434508e"
     }
    },
    "673e2347653e4136867f23e548a1a6d9": {
     "model_module": "@jupyter-widgets/base",
     "model_module_version": "1.2.0",
     "model_name": "LayoutModel",
     "state": {
      "_model_module": "@jupyter-widgets/base",
      "_model_module_version": "1.2.0",
      "_model_name": "LayoutModel",
      "_view_count": null,
      "_view_module": "@jupyter-widgets/base",
      "_view_module_version": "1.2.0",
      "_view_name": "LayoutView",
      "align_content": null,
      "align_items": null,
      "align_self": null,
      "border": null,
      "bottom": null,
      "display": null,
      "flex": null,
      "flex_flow": null,
      "grid_area": null,
      "grid_auto_columns": null,
      "grid_auto_flow": null,
      "grid_auto_rows": null,
      "grid_column": null,
      "grid_gap": null,
      "grid_row": null,
      "grid_template_areas": null,
      "grid_template_columns": null,
      "grid_template_rows": null,
      "height": null,
      "justify_content": null,
      "justify_items": null,
      "left": null,
      "margin": null,
      "max_height": null,
      "max_width": null,
      "min_height": null,
      "min_width": null,
      "object_fit": null,
      "object_position": null,
      "order": null,
      "overflow": null,
      "overflow_x": null,
      "overflow_y": null,
      "padding": null,
      "right": null,
      "top": null,
      "visibility": null,
      "width": null
     }
    },
    "7a5fdf4d74b5479e99c89b50e64abad4": {
     "model_module": "@jupyter-widgets/base",
     "model_module_version": "1.2.0",
     "model_name": "LayoutModel",
     "state": {
      "_model_module": "@jupyter-widgets/base",
      "_model_module_version": "1.2.0",
      "_model_name": "LayoutModel",
      "_view_count": null,
      "_view_module": "@jupyter-widgets/base",
      "_view_module_version": "1.2.0",
      "_view_name": "LayoutView",
      "align_content": null,
      "align_items": null,
      "align_self": null,
      "border": null,
      "bottom": null,
      "display": null,
      "flex": null,
      "flex_flow": null,
      "grid_area": null,
      "grid_auto_columns": null,
      "grid_auto_flow": null,
      "grid_auto_rows": null,
      "grid_column": null,
      "grid_gap": null,
      "grid_row": null,
      "grid_template_areas": null,
      "grid_template_columns": null,
      "grid_template_rows": null,
      "height": null,
      "justify_content": null,
      "justify_items": null,
      "left": null,
      "margin": null,
      "max_height": null,
      "max_width": null,
      "min_height": null,
      "min_width": null,
      "object_fit": null,
      "object_position": null,
      "order": null,
      "overflow": null,
      "overflow_x": null,
      "overflow_y": null,
      "padding": null,
      "right": null,
      "top": null,
      "visibility": null,
      "width": null
     }
    },
    "83d8241318d940c78f9f75e32a81119b": {
     "model_module": "@jupyter-widgets/base",
     "model_module_version": "1.2.0",
     "model_name": "LayoutModel",
     "state": {
      "_model_module": "@jupyter-widgets/base",
      "_model_module_version": "1.2.0",
      "_model_name": "LayoutModel",
      "_view_count": null,
      "_view_module": "@jupyter-widgets/base",
      "_view_module_version": "1.2.0",
      "_view_name": "LayoutView",
      "align_content": null,
      "align_items": null,
      "align_self": null,
      "border": null,
      "bottom": null,
      "display": null,
      "flex": null,
      "flex_flow": null,
      "grid_area": null,
      "grid_auto_columns": null,
      "grid_auto_flow": null,
      "grid_auto_rows": null,
      "grid_column": null,
      "grid_gap": null,
      "grid_row": null,
      "grid_template_areas": null,
      "grid_template_columns": null,
      "grid_template_rows": null,
      "height": null,
      "justify_content": null,
      "justify_items": null,
      "left": null,
      "margin": null,
      "max_height": null,
      "max_width": null,
      "min_height": null,
      "min_width": null,
      "object_fit": null,
      "object_position": null,
      "order": null,
      "overflow": null,
      "overflow_x": null,
      "overflow_y": null,
      "padding": null,
      "right": null,
      "top": null,
      "visibility": null,
      "width": null
     }
    },
    "946cac72d1274134b7152df833837ae6": {
     "model_module": "@jupyter-widgets/base",
     "model_module_version": "1.2.0",
     "model_name": "LayoutModel",
     "state": {
      "_model_module": "@jupyter-widgets/base",
      "_model_module_version": "1.2.0",
      "_model_name": "LayoutModel",
      "_view_count": null,
      "_view_module": "@jupyter-widgets/base",
      "_view_module_version": "1.2.0",
      "_view_name": "LayoutView",
      "align_content": null,
      "align_items": null,
      "align_self": null,
      "border": null,
      "bottom": null,
      "display": null,
      "flex": null,
      "flex_flow": null,
      "grid_area": null,
      "grid_auto_columns": null,
      "grid_auto_flow": null,
      "grid_auto_rows": null,
      "grid_column": null,
      "grid_gap": null,
      "grid_row": null,
      "grid_template_areas": null,
      "grid_template_columns": null,
      "grid_template_rows": null,
      "height": null,
      "justify_content": null,
      "justify_items": null,
      "left": null,
      "margin": null,
      "max_height": null,
      "max_width": null,
      "min_height": null,
      "min_width": null,
      "object_fit": null,
      "object_position": null,
      "order": null,
      "overflow": null,
      "overflow_x": null,
      "overflow_y": null,
      "padding": null,
      "right": null,
      "top": null,
      "visibility": null,
      "width": null
     }
    },
    "a099f6569fda45609086417463084507": {
     "model_module": "@jupyter-widgets/controls",
     "model_module_version": "1.5.0",
     "model_name": "DescriptionStyleModel",
     "state": {
      "_model_module": "@jupyter-widgets/controls",
      "_model_module_version": "1.5.0",
      "_model_name": "DescriptionStyleModel",
      "_view_count": null,
      "_view_module": "@jupyter-widgets/base",
      "_view_module_version": "1.2.0",
      "_view_name": "StyleView",
      "description_width": ""
     }
    },
    "a6b2680d2f9540e095e4a59436e2157f": {
     "model_module": "@jupyter-widgets/controls",
     "model_module_version": "1.5.0",
     "model_name": "HTMLModel",
     "state": {
      "_dom_classes": [],
      "_model_module": "@jupyter-widgets/controls",
      "_model_module_version": "1.5.0",
      "_model_name": "HTMLModel",
      "_view_count": null,
      "_view_module": "@jupyter-widgets/controls",
      "_view_module_version": "1.5.0",
      "_view_name": "HTMLView",
      "description": "",
      "description_tooltip": null,
      "layout": "IPY_MODEL_946cac72d1274134b7152df833837ae6",
      "placeholder": "​",
      "style": "IPY_MODEL_e1bf13e1427e410b947f25133c370e5c",
      "value": " 16454/16454 [00:06&lt;00:00, 3300.02 examples/s]"
     }
    },
    "afcd8c435b47481ea180d363b55c6b62": {
     "model_module": "@jupyter-widgets/controls",
     "model_module_version": "1.5.0",
     "model_name": "HTMLModel",
     "state": {
      "_dom_classes": [],
      "_model_module": "@jupyter-widgets/controls",
      "_model_module_version": "1.5.0",
      "_model_name": "HTMLModel",
      "_view_count": null,
      "_view_module": "@jupyter-widgets/controls",
      "_view_module_version": "1.5.0",
      "_view_name": "HTMLView",
      "description": "",
      "description_tooltip": null,
      "layout": "IPY_MODEL_83d8241318d940c78f9f75e32a81119b",
      "placeholder": "​",
      "style": "IPY_MODEL_a099f6569fda45609086417463084507",
      "value": "Map: 100%"
     }
    },
    "b4319fe6cc774c48b7aa2ed590990114": {
     "model_module": "@jupyter-widgets/controls",
     "model_module_version": "1.5.0",
     "model_name": "FloatProgressModel",
     "state": {
      "_dom_classes": [],
      "_model_module": "@jupyter-widgets/controls",
      "_model_module_version": "1.5.0",
      "_model_name": "FloatProgressModel",
      "_view_count": null,
      "_view_module": "@jupyter-widgets/controls",
      "_view_module_version": "1.5.0",
      "_view_name": "ProgressView",
      "bar_style": "success",
      "description": "",
      "description_tooltip": null,
      "layout": "IPY_MODEL_673e2347653e4136867f23e548a1a6d9",
      "max": 16454,
      "min": 0,
      "orientation": "horizontal",
      "style": "IPY_MODEL_1544268bf6c94dbfa8952080676c5c21",
      "value": 16454
     }
    },
    "b90c1b4de72e449eb98000e85f90aed8": {
     "model_module": "@jupyter-widgets/controls",
     "model_module_version": "1.5.0",
     "model_name": "HTMLModel",
     "state": {
      "_dom_classes": [],
      "_model_module": "@jupyter-widgets/controls",
      "_model_module_version": "1.5.0",
      "_model_name": "HTMLModel",
      "_view_count": null,
      "_view_module": "@jupyter-widgets/controls",
      "_view_module_version": "1.5.0",
      "_view_name": "HTMLView",
      "description": "",
      "description_tooltip": null,
      "layout": "IPY_MODEL_7a5fdf4d74b5479e99c89b50e64abad4",
      "placeholder": "​",
      "style": "IPY_MODEL_535a578cc51146f09b3784059896d5c0",
      "value": "Map: 100%"
     }
    },
    "c6f477f508aa40e8b01831e2b0ee2e15": {
     "model_module": "@jupyter-widgets/base",
     "model_module_version": "1.2.0",
     "model_name": "LayoutModel",
     "state": {
      "_model_module": "@jupyter-widgets/base",
      "_model_module_version": "1.2.0",
      "_model_name": "LayoutModel",
      "_view_count": null,
      "_view_module": "@jupyter-widgets/base",
      "_view_module_version": "1.2.0",
      "_view_name": "LayoutView",
      "align_content": null,
      "align_items": null,
      "align_self": null,
      "border": null,
      "bottom": null,
      "display": null,
      "flex": null,
      "flex_flow": null,
      "grid_area": null,
      "grid_auto_columns": null,
      "grid_auto_flow": null,
      "grid_auto_rows": null,
      "grid_column": null,
      "grid_gap": null,
      "grid_row": null,
      "grid_template_areas": null,
      "grid_template_columns": null,
      "grid_template_rows": null,
      "height": null,
      "justify_content": null,
      "justify_items": null,
      "left": null,
      "margin": null,
      "max_height": null,
      "max_width": null,
      "min_height": null,
      "min_width": null,
      "object_fit": null,
      "object_position": null,
      "order": null,
      "overflow": null,
      "overflow_x": null,
      "overflow_y": null,
      "padding": null,
      "right": null,
      "top": null,
      "visibility": null,
      "width": null
     }
    },
    "e1bf13e1427e410b947f25133c370e5c": {
     "model_module": "@jupyter-widgets/controls",
     "model_module_version": "1.5.0",
     "model_name": "DescriptionStyleModel",
     "state": {
      "_model_module": "@jupyter-widgets/controls",
      "_model_module_version": "1.5.0",
      "_model_name": "DescriptionStyleModel",
      "_view_count": null,
      "_view_module": "@jupyter-widgets/base",
      "_view_module_version": "1.2.0",
      "_view_name": "StyleView",
      "description_width": ""
     }
    },
    "e2344ec0e3b44c3db26f76d257e56e82": {
     "model_module": "@jupyter-widgets/controls",
     "model_module_version": "1.5.0",
     "model_name": "FloatProgressModel",
     "state": {
      "_dom_classes": [],
      "_model_module": "@jupyter-widgets/controls",
      "_model_module_version": "1.5.0",
      "_model_name": "FloatProgressModel",
      "_view_count": null,
      "_view_module": "@jupyter-widgets/controls",
      "_view_module_version": "1.5.0",
      "_view_name": "ProgressView",
      "bar_style": "success",
      "description": "",
      "description_tooltip": null,
      "layout": "IPY_MODEL_f5741e71e3a4418b9d45cc8b11572f4b",
      "max": 16410,
      "min": 0,
      "orientation": "horizontal",
      "style": "IPY_MODEL_478562af9481401d9a74726742ecea13",
      "value": 16410
     }
    },
    "e853e4302c004a4cb12d15f9282cfbf5": {
     "model_module": "@jupyter-widgets/controls",
     "model_module_version": "1.5.0",
     "model_name": "HTMLModel",
     "state": {
      "_dom_classes": [],
      "_model_module": "@jupyter-widgets/controls",
      "_model_module_version": "1.5.0",
      "_model_name": "HTMLModel",
      "_view_count": null,
      "_view_module": "@jupyter-widgets/controls",
      "_view_module_version": "1.5.0",
      "_view_name": "HTMLView",
      "description": "",
      "description_tooltip": null,
      "layout": "IPY_MODEL_c6f477f508aa40e8b01831e2b0ee2e15",
      "placeholder": "​",
      "style": "IPY_MODEL_eab594ff9d4947f3b2b0971a4aadab42",
      "value": "Map: 100%"
     }
    },
    "eab594ff9d4947f3b2b0971a4aadab42": {
     "model_module": "@jupyter-widgets/controls",
     "model_module_version": "1.5.0",
     "model_name": "DescriptionStyleModel",
     "state": {
      "_model_module": "@jupyter-widgets/controls",
      "_model_module_version": "1.5.0",
      "_model_name": "DescriptionStyleModel",
      "_view_count": null,
      "_view_module": "@jupyter-widgets/base",
      "_view_module_version": "1.2.0",
      "_view_name": "StyleView",
      "description_width": ""
     }
    },
    "f5741e71e3a4418b9d45cc8b11572f4b": {
     "model_module": "@jupyter-widgets/base",
     "model_module_version": "1.2.0",
     "model_name": "LayoutModel",
     "state": {
      "_model_module": "@jupyter-widgets/base",
      "_model_module_version": "1.2.0",
      "_model_name": "LayoutModel",
      "_view_count": null,
      "_view_module": "@jupyter-widgets/base",
      "_view_module_version": "1.2.0",
      "_view_name": "LayoutView",
      "align_content": null,
      "align_items": null,
      "align_self": null,
      "border": null,
      "bottom": null,
      "display": null,
      "flex": null,
      "flex_flow": null,
      "grid_area": null,
      "grid_auto_columns": null,
      "grid_auto_flow": null,
      "grid_auto_rows": null,
      "grid_column": null,
      "grid_gap": null,
      "grid_row": null,
      "grid_template_areas": null,
      "grid_template_columns": null,
      "grid_template_rows": null,
      "height": null,
      "justify_content": null,
      "justify_items": null,
      "left": null,
      "margin": null,
      "max_height": null,
      "max_width": null,
      "min_height": null,
      "min_width": null,
      "object_fit": null,
      "object_position": null,
      "order": null,
      "overflow": null,
      "overflow_x": null,
      "overflow_y": null,
      "padding": null,
      "right": null,
      "top": null,
      "visibility": null,
      "width": null
     }
    },
    "fabcbffaee84405c8a8e0e48cfe1a6c9": {
     "model_module": "@jupyter-widgets/controls",
     "model_module_version": "1.5.0",
     "model_name": "HBoxModel",
     "state": {
      "_dom_classes": [],
      "_model_module": "@jupyter-widgets/controls",
      "_model_module_version": "1.5.0",
      "_model_name": "HBoxModel",
      "_view_count": null,
      "_view_module": "@jupyter-widgets/controls",
      "_view_module_version": "1.5.0",
      "_view_name": "HBoxView",
      "box_style": "",
      "children": [
       "IPY_MODEL_e853e4302c004a4cb12d15f9282cfbf5",
       "IPY_MODEL_24e99868fe0b477b9d696b049c1c612b",
       "IPY_MODEL_59ff2238ba93470db36c154c3319c645"
      ],
      "layout": "IPY_MODEL_074e7aa290144e4982020beee4eee092"
     }
    },
    "fe7d87f990f74207b8ece9c6dca31a0a": {
     "model_module": "@jupyter-widgets/controls",
     "model_module_version": "1.5.0",
     "model_name": "HBoxModel",
     "state": {
      "_dom_classes": [],
      "_model_module": "@jupyter-widgets/controls",
      "_model_module_version": "1.5.0",
      "_model_name": "HBoxModel",
      "_view_count": null,
      "_view_module": "@jupyter-widgets/controls",
      "_view_module_version": "1.5.0",
      "_view_name": "HBoxView",
      "box_style": "",
      "children": [
       "IPY_MODEL_b90c1b4de72e449eb98000e85f90aed8",
       "IPY_MODEL_e2344ec0e3b44c3db26f76d257e56e82",
       "IPY_MODEL_546f7ac4274841a293abd6d397601c97"
      ],
      "layout": "IPY_MODEL_4b63115810564435a73cda9e0e8901af"
     }
    }
   }
  }
 },
 "nbformat": 4,
 "nbformat_minor": 4
}
