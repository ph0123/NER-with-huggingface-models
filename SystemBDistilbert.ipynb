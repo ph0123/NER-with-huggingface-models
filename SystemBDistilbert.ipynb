{
 "cells": [
  {
   "cell_type": "code",
   "execution_count": 1,
   "metadata": {
    "id": "8FxXIeADH8rp"
   },
   "outputs": [],
   "source": [
    "#Uncomment this cell if you have not already installed these libraries.\n",
    "#!pip install -q seqeval\n",
    "#!pip install -q transformers\n",
    "#!pip install -q datasets\n",
    "#!pip install -U accelerate\n",
    "#!pip install -U transformers\n",
    "#pip install torch torchvision torchaudio\n",
    "#!pip install torchinfo\n",
    "#!pip install transformers[torch] for GPU running."
   ]
  },
  {
   "cell_type": "code",
   "execution_count": 1,
   "metadata": {
    "id": "4qI8dGKYH8rs"
   },
   "outputs": [],
   "source": [
    "import torch\n",
    "from transformers import AutoTokenizer, AutoModelForTokenClassification, Trainer, TrainingArguments\n",
    "from datasets import load_dataset, load_metric, Dataset, DatasetDict\n",
    "import numpy as np\n",
    "from seqeval.metrics import f1_score, precision_score, recall_score, classification_report"
   ]
  },
  {
   "cell_type": "code",
   "execution_count": 2,
   "metadata": {
    "colab": {
     "base_uri": "https://localhost:8080/"
    },
    "id": "SSSJnOGjH8rt",
    "outputId": "daa0a524-0211-40bd-8756-0ada1f414f84"
   },
   "outputs": [
    {
     "name": "stdout",
     "output_type": "stream",
     "text": [
      "CUDA available: False\n"
     ]
    }
   ],
   "source": [
    "print(\"CUDA available:\", torch.cuda.is_available())\n"
   ]
  },
  {
   "cell_type": "code",
   "execution_count": 3,
   "metadata": {
    "id": "Lm0VjhDMH8ru"
   },
   "outputs": [],
   "source": [
    "def read_file(file_path):\n",
    "    with open(file_path, \"r\",encoding=\"utf8\") as f:\n",
    "        content = f.read().strip()\n",
    "        sentences = content.split(\"\\n\\n\")\n",
    "        data = []\n",
    "        for sentence in sentences:\n",
    "            tokens = sentence.split(\"\\n\")\n",
    "            token_data = []\n",
    "            for token in tokens:\n",
    "                token_data.append(token.split())\n",
    "            data.append(token_data)\n",
    "    return data"
   ]
  },
  {
   "cell_type": "code",
   "execution_count": 4,
   "metadata": {
    "id": "__qz3gSxH8rv"
   },
   "outputs": [],
   "source": [
    "train_data = read_file(\"train_en.tsv\")\n",
    "validation_data = read_file(\"dev_en.tsv\")\n",
    "test_data = read_file(\"test_en.tsv\")\n",
    "#note test data has only 30 labels. Missing 'I-BIO' comparing to training and validation sets"
   ]
  },
  {
   "cell_type": "code",
   "execution_count": 5,
   "metadata": {
    "colab": {
     "base_uri": "https://localhost:8080/"
    },
    "id": "qC9QTy1JH8rw",
    "outputId": "6e95c0af-f0a2-4fb3-dc14-24c3292595d0"
   },
   "outputs": [
    {
     "name": "stdout",
     "output_type": "stream",
     "text": [
      "131280\n",
      "16410\n",
      "16454\n"
     ]
    }
   ],
   "source": [
    "print(len(train_data))\n",
    "print(len(validation_data))\n",
    "print(len(test_data))"
   ]
  },
  {
   "cell_type": "code",
   "execution_count": 6,
   "metadata": {},
   "outputs": [],
   "source": [
    "#keep only file type of tags\n",
    "List_New = ['PER', 'ORG', 'LOC', 'DIS', 'ANIM']\n",
    "def Data_Processing(data):\n",
    "    for i in range(len(data)):\n",
    "        sentence = data[i]\n",
    "        for j in range(len(sentence)):\n",
    "            s= sentence[j]\n",
    "            temp = s[2].split('-')\n",
    "            if (len(temp)>=2): \n",
    "                if (temp[1] not in  List_New):\n",
    "                    data[i][j][2]= 'O' \n",
    "    return data\n",
    "\n",
    "train_dataset = Data_Processing(train_data)\n",
    "validation_dataset = Data_Processing(validation_data)\n",
    "test_dataset = Data_Processing(test_data)"
   ]
  },
  {
   "cell_type": "code",
   "execution_count": 7,
   "metadata": {},
   "outputs": [],
   "source": [
    "#Select 10% to do this task because of limitation of time and memory. 2.5% for trainingset.\n",
    "import random\n",
    "random.seed(1234) #make sure training data has 31 labels as original data\n",
    "train_data = random.sample(train_dataset, int(0.025*len(train_dataset)))\n",
    "\n",
    "random.seed(30) #make sure test data has 30 labels as original data\n",
    "test_data = random.sample(test_dataset, int(0.15*len(test_dataset)))\n",
    "random.seed(2) #make sure validation data has 31 labels as original data\n",
    "validation_data = random.sample(validation_dataset, int(0.15*len(validation_dataset)))"
   ]
  },
  {
   "cell_type": "code",
   "execution_count": 8,
   "metadata": {},
   "outputs": [
    {
     "name": "stdout",
     "output_type": "stream",
     "text": [
      "3282\n",
      "2461\n",
      "2468\n"
     ]
    }
   ],
   "source": [
    "print(len(train_data))\n",
    "print(len(validation_data))\n",
    "print(len(test_data))\n",
    "#Ratio: 4:3:3 It is not a good ratio. However, with limitations of machine and time. It is good to learn and practice."
   ]
  },
  {
   "cell_type": "code",
   "execution_count": 9,
   "metadata": {
    "id": "gd0Rs29OH8rx"
   },
   "outputs": [],
   "source": [
    "def convert_to_dataset(data, label_map):\n",
    "    formatted_data = {\"id\": [], \"tokens\": [], \"ner_tags\": []}\n",
    "    i= 0\n",
    "    for sentence in data:\n",
    "        tokens = [token_data[1] for token_data in sentence]\n",
    "        ner_tags = [label_map[token_data[2]] for token_data in sentence]\n",
    "        formatted_data[\"id\"].append(i)\n",
    "        formatted_data[\"tokens\"].append(tokens)\n",
    "        formatted_data[\"ner_tags\"].append(ner_tags)\n",
    "        i+=1\n",
    "    return Dataset.from_dict(formatted_data)"
   ]
  },
  {
   "cell_type": "code",
   "execution_count": 10,
   "metadata": {
    "colab": {
     "base_uri": "https://localhost:8080/"
    },
    "id": "80L088KCH8rx",
    "outputId": "b930a889-0c70-46c3-c978-5114ce6650ff"
   },
   "outputs": [
    {
     "data": {
      "text/plain": [
       "['B-ANIM',\n",
       " 'B-DIS',\n",
       " 'B-LOC',\n",
       " 'B-ORG',\n",
       " 'B-PER',\n",
       " 'I-ANIM',\n",
       " 'I-DIS',\n",
       " 'I-LOC',\n",
       " 'I-ORG',\n",
       " 'I-PER',\n",
       " 'O']"
      ]
     },
     "execution_count": 10,
     "metadata": {},
     "output_type": "execute_result"
    }
   ],
   "source": [
    "label_list = sorted(list(set([token_data[2] for sentence in train_data for token_data in sentence])))\n",
    "label_map = {label: i for i, label in enumerate(label_list)}\n",
    "label_list"
   ]
  },
  {
   "cell_type": "code",
   "execution_count": 11,
   "metadata": {
    "id": "OMA_3UG8H8ry"
   },
   "outputs": [],
   "source": [
    "train_dataset = convert_to_dataset(train_data, label_map)\n",
    "validation_dataset = convert_to_dataset(validation_data, label_map)\n",
    "test_dataset = convert_to_dataset(test_data, label_map)"
   ]
  },
  {
   "cell_type": "code",
   "execution_count": 12,
   "metadata": {
    "id": "1SQpdgb8H8ry"
   },
   "outputs": [],
   "source": [
    "en_datasets = DatasetDict({\n",
    "    \"train\": train_dataset,\n",
    "    \"validation\": validation_dataset,\n",
    "    \"test\": test_dataset,\n",
    "})"
   ]
  },
  {
   "cell_type": "code",
   "execution_count": 12,
   "metadata": {
    "colab": {
     "base_uri": "https://localhost:8080/"
    },
    "id": "l9VkYmHuH8rz",
    "outputId": "bf0de29d-345b-4f89-8405-65a4ba0d0d96"
   },
   "outputs": [
    {
     "data": {
      "text/plain": [
       "DatasetDict({\n",
       "    train: Dataset({\n",
       "        features: ['id', 'tokens', 'ner_tags'],\n",
       "        num_rows: 3282\n",
       "    })\n",
       "    validation: Dataset({\n",
       "        features: ['id', 'tokens', 'ner_tags'],\n",
       "        num_rows: 2461\n",
       "    })\n",
       "    test: Dataset({\n",
       "        features: ['id', 'tokens', 'ner_tags'],\n",
       "        num_rows: 2468\n",
       "    })\n",
       "})"
      ]
     },
     "execution_count": 12,
     "metadata": {},
     "output_type": "execute_result"
    }
   ],
   "source": [
    "en_datasets"
   ]
  },
  {
   "cell_type": "code",
   "execution_count": 13,
   "metadata": {},
   "outputs": [
    {
     "name": "stdout",
     "output_type": "stream",
     "text": [
      "Ratio of each Label in \n",
      "\t\t training\t\t:\t\tValidation\t\t:\t\tTesting\n",
      "B-ANIM      \t 0.4748677248677249 \t\t 0.19973544973544974 \t\t\t 0.3253968253968254\n",
      "B-DIS       \t 0.37748344370860926 \t\t 0.4139072847682119 \t\t\t 0.20860927152317882\n",
      "B-LOC       \t 0.32884834663626 \t\t 0.2725199543899658 \t\t\t 0.3986316989737742\n",
      "B-ORG       \t 0.4222078760490639 \t\t 0.26081342801807617 \t\t\t 0.31697869593285993\n",
      "B-PER       \t 0.4355951696377228 \t\t 0.32259919493962047 \t\t\t 0.2418056354226567\n",
      "I-ANIM      \t 0.4166666666666667 \t\t 0.19827586206896552 \t\t\t 0.3850574712643678\n",
      "I-DIS       \t 0.4119170984455959 \t\t 0.38860103626943004 \t\t\t 0.19948186528497408\n",
      "I-LOC       \t 0.3083290222452147 \t\t 0.26332126228660113 \t\t\t 0.4283497154681842\n",
      "I-ORG       \t 0.40414258188824664 \t\t 0.27167630057803466 \t\t\t 0.3241811175337187\n",
      "I-PER       \t 0.42265267688996505 \t\t 0.327683615819209 \t\t\t 0.24966370729082593\n",
      "O           \t 0.3943983995427265 \t\t 0.3188364377399754 \t\t\t 0.2867651627172981\n",
      "{'B-ANIM': 359, 'B-DIS': 228, 'B-LOC': 1442, 'B-ORG': 654, 'B-PER': 1515, 'I-ANIM': 145, 'I-DIS': 159, 'I-LOC': 596, 'I-ORG': 839, 'I-PER': 1571, 'O': 63480}\n",
      "{'B-ANIM': 151, 'B-DIS': 250, 'B-LOC': 1195, 'B-ORG': 404, 'B-PER': 1122, 'I-ANIM': 69, 'I-DIS': 150, 'I-LOC': 509, 'I-ORG': 564, 'I-PER': 1218, 'O': 51318}\n",
      "{'B-ANIM': 246, 'B-DIS': 126, 'B-LOC': 1748, 'B-ORG': 491, 'B-PER': 841, 'I-ANIM': 134, 'I-DIS': 77, 'I-LOC': 828, 'I-ORG': 673, 'I-PER': 928, 'O': 46156}\n"
     ]
    }
   ],
   "source": [
    "#counting each labels on the data\n",
    "Counting_Train = {}\n",
    "Counting_Validations = {}\n",
    "Counting_Test = {}\n",
    "Counting_Sum = {}\n",
    "for i in label_list:\n",
    "    Counting_Train[i] = 0\n",
    "    Counting_Validations[i] = 0\n",
    "    Counting_Test[i] = 0\n",
    "    Counting_Sum[i] = 0\n",
    "for sentence in train_data:\n",
    "    for token_data in sentence:\n",
    "        Counting_Train[token_data[2]] +=1\n",
    "        Counting_Sum[token_data[2]] +=1\n",
    "\n",
    "for sentence in validation_data:\n",
    "    for token_data in sentence:\n",
    "        Counting_Validations[token_data[2]] +=1\n",
    "        Counting_Sum[token_data[2]] +=1\n",
    "\n",
    "for sentence in test_data:\n",
    "    for token_data in sentence:\n",
    "        Counting_Test[token_data[2]] +=1\n",
    "        Counting_Sum[token_data[2]] +=1\n",
    "\n",
    "print('Ratio of each Label in \\n\\t\\t training\\t\\t:\\t\\tValidation\\t\\t:\\t\\tTesting')\n",
    "for i in label_list:\n",
    "    print('{message: <10}'.format(message=i), ' \\t','{message: <16}'.format(message=Counting_Train[i]/Counting_Sum[i]),'\\t\\t','{message: <16}'.format(message=Counting_Validations[i]/Counting_Sum[i]),\n",
    "          '\\t\\t\\t','{message: <16}'.format(message=Counting_Test[i]/Counting_Sum[i]))\n",
    "    \n",
    "print(Counting_Train)\n",
    "print(Counting_Validations)\n",
    "print(Counting_Test)\n"
   ]
  },
  {
   "cell_type": "markdown",
   "metadata": {
    "id": "dQLmXrQbH8rz"
   },
   "source": [
    "# Tokenizer and Model"
   ]
  },
  {
   "cell_type": "code",
   "execution_count": 14,
   "metadata": {
    "colab": {
     "base_uri": "https://localhost:8080/"
    },
    "id": "dFmf73O8H8r0",
    "outputId": "34dabc51-a5c3-4e7c-f3d7-341946c62711"
   },
   "outputs": [
    {
     "name": "stderr",
     "output_type": "stream",
     "text": [
      "Some weights of DistilBertForTokenClassification were not initialized from the model checkpoint at distilbert-base-cased and are newly initialized: ['classifier.bias', 'classifier.weight']\n",
      "You should probably TRAIN this model on a down-stream task to be able to use it for predictions and inference.\n"
     ]
    }
   ],
   "source": [
    "#model_name = \"bert-base-cased\"\n",
    "model_name = \"distilbert-base-cased\"\n",
    "tokenizer = AutoTokenizer.from_pretrained(model_name)\n",
    "model = AutoModelForTokenClassification.from_pretrained(model_name, num_labels=len(label_list))"
   ]
  },
  {
   "cell_type": "markdown",
   "metadata": {
    "id": "j9Q_zs1YH8r1"
   },
   "source": [
    "# Define Metrics and Tokenization"
   ]
  },
  {
   "cell_type": "code",
   "execution_count": 15,
   "metadata": {
    "id": "Ny9PJmOTH8r1"
   },
   "outputs": [],
   "source": [
    "def compute_metrics(eval_prediction):\n",
    "    predictions, labels = eval_prediction\n",
    "    predictions = np.argmax(predictions, axis=2)\n",
    "\n",
    "\n",
    "    # Remove ignored index (special tokens)\n",
    "    true_predictions = [\n",
    "        [label_list[p] for (p, l) in zip(prediction, label) if l != -100]\n",
    "        for prediction, label in zip(predictions, labels)\n",
    "    ]\n",
    "    true_labels = [\n",
    "        [label_list[l] for (p, l) in zip(prediction, label) if l != -100]\n",
    "        for prediction, label in zip(predictions, labels)\n",
    "    ]\n",
    "\n",
    "\n",
    "    return {\n",
    "        \"precision\": precision_score(true_labels, true_predictions),\n",
    "        \"recall\": recall_score(true_labels, true_predictions),\n",
    "        \"f1\": f1_score(true_labels, true_predictions),\n",
    "        \"classification_report\": classification_report(true_labels, true_predictions), #https://stackoverflow.com/questions/77143185/classification-report-in-ner-models-seqeval-vs-sickit-learn\n",
    "    }\n",
    "\n",
    "\n",
    "def tokenize_and_align_labels(examples):\n",
    "    tokenized_inputs = tokenizer(\n",
    "        examples[\"tokens\"], truncation=True, is_split_into_words=True, padding=True\n",
    "    )\n",
    "    labels = []\n",
    "    for i, label in enumerate(examples[\"ner_tags\"]):\n",
    "        word_ids = tokenized_inputs.word_ids(batch_index=i)\n",
    "        previous_word_idx = None\n",
    "        label_ids = []\n",
    "        for word_idx in word_ids:\n",
    "            if word_idx is None:\n",
    "                label_ids.append(-100)\n",
    "            elif word_idx != previous_word_idx:\n",
    "                label_ids.append(label[word_idx])\n",
    "            else:\n",
    "                label_ids.append(-100)\n",
    "            previous_word_idx = word_idx\n",
    "        labels.append(label_ids)\n",
    "    tokenized_inputs[\"labels\"] = labels\n",
    "    return tokenized_inputs"
   ]
  },
  {
   "cell_type": "markdown",
   "metadata": {
    "id": "Fv33u6Z8KwdY"
   },
   "source": [
    "# Tokenize Datasets and Set Training Arguments"
   ]
  },
  {
   "cell_type": "code",
   "execution_count": 16,
   "metadata": {
    "colab": {
     "base_uri": "https://localhost:8080/",
     "height": 113,
     "referenced_widgets": [
      "fabcbffaee84405c8a8e0e48cfe1a6c9",
      "e853e4302c004a4cb12d15f9282cfbf5",
      "24e99868fe0b477b9d696b049c1c612b",
      "59ff2238ba93470db36c154c3319c645",
      "074e7aa290144e4982020beee4eee092",
      "c6f477f508aa40e8b01831e2b0ee2e15",
      "eab594ff9d4947f3b2b0971a4aadab42",
      "2588cf3ef2dc4d609dfe79985e39f226",
      "194497f41c984b7ba3128ccb5aa9f5af",
      "195f4da31920466c98168e7dfe9afe9f",
      "0e68a595c5124265ba7f591ae14ffdd4",
      "fe7d87f990f74207b8ece9c6dca31a0a",
      "b90c1b4de72e449eb98000e85f90aed8",
      "e2344ec0e3b44c3db26f76d257e56e82",
      "546f7ac4274841a293abd6d397601c97",
      "4b63115810564435a73cda9e0e8901af",
      "7a5fdf4d74b5479e99c89b50e64abad4",
      "535a578cc51146f09b3784059896d5c0",
      "f5741e71e3a4418b9d45cc8b11572f4b",
      "478562af9481401d9a74726742ecea13",
      "166cde47b7e84eb4a740c7139cccefc8",
      "515826e234114fbf9627b7928f499aba",
      "5d5682a9539d4da59cdb629b75b3d183",
      "afcd8c435b47481ea180d363b55c6b62",
      "b4319fe6cc774c48b7aa2ed590990114",
      "a6b2680d2f9540e095e4a59436e2157f",
      "097535575f194d3fbf370752a434508e",
      "83d8241318d940c78f9f75e32a81119b",
      "a099f6569fda45609086417463084507",
      "673e2347653e4136867f23e548a1a6d9",
      "1544268bf6c94dbfa8952080676c5c21",
      "946cac72d1274134b7152df833837ae6",
      "e1bf13e1427e410b947f25133c370e5c"
     ]
    },
    "id": "0Ad3wheWH8r2",
    "outputId": "6ed69229-05e9-48c8-b150-8c027a8118ae"
   },
   "outputs": [
    {
     "data": {
      "application/vnd.jupyter.widget-view+json": {
       "model_id": "9622ac55dbb8415d8d3ae074e667802b",
       "version_major": 2,
       "version_minor": 0
      },
      "text/plain": [
       "Map:   0%|          | 0/3282 [00:00<?, ? examples/s]"
      ]
     },
     "metadata": {},
     "output_type": "display_data"
    },
    {
     "data": {
      "application/vnd.jupyter.widget-view+json": {
       "model_id": "80c5b125be7b4b27aed060a4f6adf213",
       "version_major": 2,
       "version_minor": 0
      },
      "text/plain": [
       "Map:   0%|          | 0/2461 [00:00<?, ? examples/s]"
      ]
     },
     "metadata": {},
     "output_type": "display_data"
    },
    {
     "data": {
      "application/vnd.jupyter.widget-view+json": {
       "model_id": "a954a467c2d54eec80a633184a484f7e",
       "version_major": 2,
       "version_minor": 0
      },
      "text/plain": [
       "Map:   0%|          | 0/2468 [00:00<?, ? examples/s]"
      ]
     },
     "metadata": {},
     "output_type": "display_data"
    }
   ],
   "source": [
    "tokenized_datasets = en_datasets.map(tokenize_and_align_labels, batched=True)\n"
   ]
  },
  {
   "cell_type": "code",
   "execution_count": 17,
   "metadata": {
    "id": "v5taOYMuL6td"
   },
   "outputs": [],
   "source": [
    "\n",
    "training_args = TrainingArguments(\n",
    "    output_dir=\"./results\",\n",
    "    evaluation_strategy=\"steps\",\n",
    "    eval_steps=200,\n",
    "    save_steps=200,\n",
    "    num_train_epochs=10,\n",
    "    per_device_train_batch_size=32,\n",
    "    per_device_eval_batch_size=32,\n",
    "    logging_steps=100,\n",
    "    learning_rate=5e-5,\n",
    "    load_best_model_at_end=True,\n",
    "    metric_for_best_model=\"f1\",\n",
    ")"
   ]
  },
  {
   "cell_type": "markdown",
   "metadata": {
    "id": "NQi6PtmaNIHF"
   },
   "source": [
    "# Define Data Collator and Initialize"
   ]
  },
  {
   "cell_type": "code",
   "execution_count": 18,
   "metadata": {
    "id": "D41TBvWdH8r2"
   },
   "outputs": [],
   "source": [
    "def data_collator(data):\n",
    "    input_ids = [torch.tensor(item[\"input_ids\"]) for item in data]\n",
    "    attention_mask = [torch.tensor(item[\"attention_mask\"]) for item in data]\n",
    "    labels = [torch.tensor(item[\"labels\"]) for item in data]\n",
    "\n",
    "\n",
    "    input_ids = torch.nn.utils.rnn.pad_sequence(input_ids, batch_first=True, padding_value=tokenizer.pad_token_id)\n",
    "    attention_mask = torch.nn.utils.rnn.pad_sequence(attention_mask, batch_first=True, padding_value=0)\n",
    "    labels = torch.nn.utils.rnn.pad_sequence(labels, batch_first=True, padding_value=-100)\n",
    "\n",
    "\n",
    "    return {\n",
    "        \"input_ids\": input_ids,\n",
    "        \"attention_mask\": attention_mask,\n",
    "        \"labels\": labels,\n",
    "    }"
   ]
  },
  {
   "cell_type": "code",
   "execution_count": 19,
   "metadata": {
    "id": "uxsc89ZzH8r2"
   },
   "outputs": [],
   "source": [
    "#because of limitations of times, and computer. I will select 2/8 training set for training. Randomlly.\n",
    "trainer = Trainer(\n",
    "    model=model,\n",
    "    args=training_args,\n",
    "    train_dataset=tokenized_datasets[\"train\"],\n",
    "    eval_dataset=tokenized_datasets[\"validation\"],\n",
    "    data_collator=data_collator,\n",
    "    tokenizer=tokenizer,\n",
    "    compute_metrics=compute_metrics,\n",
    ")"
   ]
  },
  {
   "cell_type": "code",
   "execution_count": 20,
   "metadata": {
    "colab": {
     "base_uri": "https://localhost:8080/",
     "height": 75
    },
    "id": "60lDRqRCH8r2",
    "outputId": "7473d9ce-d038-4eee-d6a2-9f18ef78af70"
   },
   "outputs": [
    {
     "data": {
      "application/vnd.jupyter.widget-view+json": {
       "model_id": "47dacf18a0414c2b85956da858bed91e",
       "version_major": 2,
       "version_minor": 0
      },
      "text/plain": [
       "  0%|          | 0/1030 [00:00<?, ?it/s]"
      ]
     },
     "metadata": {},
     "output_type": "display_data"
    },
    {
     "name": "stdout",
     "output_type": "stream",
     "text": [
      "{'loss': 0.2271, 'learning_rate': 4.514563106796117e-05, 'epoch': 0.97}\n",
      "{'loss': 0.0345, 'learning_rate': 4.029126213592233e-05, 'epoch': 1.94}\n"
     ]
    },
    {
     "data": {
      "application/vnd.jupyter.widget-view+json": {
       "model_id": "7aad01216b2c43208eb1d12d2e21c7a0",
       "version_major": 2,
       "version_minor": 0
      },
      "text/plain": [
       "  0%|          | 0/77 [00:00<?, ?it/s]"
      ]
     },
     "metadata": {},
     "output_type": "display_data"
    },
    {
     "name": "stdout",
     "output_type": "stream",
     "text": [
      "{'eval_loss': 0.044075388461351395, 'eval_precision': 0.9079301075268817, 'eval_recall': 0.8654708520179372, 'eval_f1': 0.8861921941620203, 'eval_classification_report': '              precision    recall  f1-score   support\\n\\n        ANIM       0.50      0.17      0.25       151\\n         DIS       0.48      0.34      0.40       250\\n         LOC       0.94      0.96      0.95      1195\\n         ORG       0.87      0.86      0.86       404\\n         PER       0.98      0.98      0.98      1122\\n\\n   micro avg       0.91      0.87      0.89      3122\\n   macro avg       0.75      0.66      0.69      3122\\nweighted avg       0.88      0.87      0.87      3122\\n', 'eval_runtime': 127.3002, 'eval_samples_per_second': 19.332, 'eval_steps_per_second': 0.605, 'epoch': 1.94}\n",
      "{'loss': 0.0187, 'learning_rate': 3.54368932038835e-05, 'epoch': 2.91}\n",
      "{'loss': 0.0089, 'learning_rate': 3.058252427184466e-05, 'epoch': 3.88}\n"
     ]
    },
    {
     "data": {
      "application/vnd.jupyter.widget-view+json": {
       "model_id": "e345090d878b4fa09bbdd1ee55b8acae",
       "version_major": 2,
       "version_minor": 0
      },
      "text/plain": [
       "  0%|          | 0/77 [00:00<?, ?it/s]"
      ]
     },
     "metadata": {},
     "output_type": "display_data"
    },
    {
     "name": "stdout",
     "output_type": "stream",
     "text": [
      "{'eval_loss': 0.052464861422777176, 'eval_precision': 0.9190256747860435, 'eval_recall': 0.8942985265855221, 'eval_f1': 0.9064935064935065, 'eval_classification_report': '              precision    recall  f1-score   support\\n\\n        ANIM       0.53      0.38      0.44       151\\n         DIS       0.56      0.43      0.49       250\\n         LOC       0.96      0.98      0.97      1195\\n         ORG       0.91      0.88      0.90       404\\n         PER       0.98      0.98      0.98      1122\\n\\n   micro avg       0.92      0.89      0.91      3122\\n   macro avg       0.79      0.73      0.75      3122\\nweighted avg       0.91      0.89      0.90      3122\\n', 'eval_runtime': 125.5202, 'eval_samples_per_second': 19.606, 'eval_steps_per_second': 0.613, 'epoch': 3.88}\n",
      "{'loss': 0.0047, 'learning_rate': 2.5728155339805826e-05, 'epoch': 4.85}\n",
      "{'loss': 0.0026, 'learning_rate': 2.0873786407766992e-05, 'epoch': 5.83}\n"
     ]
    },
    {
     "data": {
      "application/vnd.jupyter.widget-view+json": {
       "model_id": "3a7b1ede9cab476b8fc3a2d258f1a9eb",
       "version_major": 2,
       "version_minor": 0
      },
      "text/plain": [
       "  0%|          | 0/77 [00:00<?, ?it/s]"
      ]
     },
     "metadata": {},
     "output_type": "display_data"
    },
    {
     "name": "stdout",
     "output_type": "stream",
     "text": [
      "{'eval_loss': 0.06062619015574455, 'eval_precision': 0.8928346951602766, 'eval_recall': 0.909993593850096, 'eval_f1': 0.9013324873096447, 'eval_classification_report': '              precision    recall  f1-score   support\\n\\n        ANIM       0.44      0.48      0.46       151\\n         DIS       0.55      0.55      0.55       250\\n         LOC       0.96      0.98      0.97      1195\\n         ORG       0.88      0.89      0.88       404\\n         PER       0.97      0.98      0.98      1122\\n\\n   micro avg       0.89      0.91      0.90      3122\\n   macro avg       0.76      0.78      0.77      3122\\nweighted avg       0.89      0.91      0.90      3122\\n', 'eval_runtime': 133.8121, 'eval_samples_per_second': 18.391, 'eval_steps_per_second': 0.575, 'epoch': 5.83}\n",
      "{'loss': 0.0017, 'learning_rate': 1.6019417475728158e-05, 'epoch': 6.8}\n",
      "{'loss': 0.0011, 'learning_rate': 1.116504854368932e-05, 'epoch': 7.77}\n"
     ]
    },
    {
     "data": {
      "application/vnd.jupyter.widget-view+json": {
       "model_id": "cf57268ef0cb4389ae74a464bed1da06",
       "version_major": 2,
       "version_minor": 0
      },
      "text/plain": [
       "  0%|          | 0/77 [00:00<?, ?it/s]"
      ]
     },
     "metadata": {},
     "output_type": "display_data"
    },
    {
     "name": "stdout",
     "output_type": "stream",
     "text": [
      "{'eval_loss': 0.06459921598434448, 'eval_precision': 0.904, 'eval_recall': 0.9048686739269699, 'eval_f1': 0.9044341283816232, 'eval_classification_report': '              precision    recall  f1-score   support\\n\\n        ANIM       0.53      0.43      0.48       151\\n         DIS       0.55      0.52      0.53       250\\n         LOC       0.96      0.98      0.97      1195\\n         ORG       0.86      0.89      0.88       404\\n         PER       0.97      0.98      0.98      1122\\n\\n   micro avg       0.90      0.90      0.90      3122\\n   macro avg       0.78      0.76      0.77      3122\\nweighted avg       0.90      0.90      0.90      3122\\n', 'eval_runtime': 126.9143, 'eval_samples_per_second': 19.391, 'eval_steps_per_second': 0.607, 'epoch': 7.77}\n",
      "{'loss': 0.0007, 'learning_rate': 6.310679611650486e-06, 'epoch': 8.74}\n",
      "{'loss': 0.0006, 'learning_rate': 1.4563106796116506e-06, 'epoch': 9.71}\n"
     ]
    },
    {
     "data": {
      "application/vnd.jupyter.widget-view+json": {
       "model_id": "21eb7614adc340e9b4a662b43e02c0dc",
       "version_major": 2,
       "version_minor": 0
      },
      "text/plain": [
       "  0%|          | 0/77 [00:00<?, ?it/s]"
      ]
     },
     "metadata": {},
     "output_type": "display_data"
    },
    {
     "name": "stdout",
     "output_type": "stream",
     "text": [
      "{'eval_loss': 0.06619025766849518, 'eval_precision': 0.9017175572519084, 'eval_recall': 0.9080717488789237, 'eval_f1': 0.9048834982444941, 'eval_classification_report': '              precision    recall  f1-score   support\\n\\n        ANIM       0.50      0.41      0.45       151\\n         DIS       0.56      0.56      0.56       250\\n         LOC       0.96      0.97      0.97      1195\\n         ORG       0.86      0.91      0.88       404\\n         PER       0.98      0.98      0.98      1122\\n\\n   micro avg       0.90      0.91      0.90      3122\\n   macro avg       0.77      0.77      0.77      3122\\nweighted avg       0.90      0.91      0.90      3122\\n', 'eval_runtime': 128.4122, 'eval_samples_per_second': 19.165, 'eval_steps_per_second': 0.6, 'epoch': 9.71}\n",
      "{'train_runtime': 5557.2894, 'train_samples_per_second': 5.906, 'train_steps_per_second': 0.185, 'train_loss': 0.029196617774014333, 'epoch': 10.0}\n"
     ]
    },
    {
     "data": {
      "text/plain": [
       "TrainOutput(global_step=1030, training_loss=0.029196617774014333, metrics={'train_runtime': 5557.2894, 'train_samples_per_second': 5.906, 'train_steps_per_second': 0.185, 'train_loss': 0.029196617774014333, 'epoch': 10.0})"
      ]
     },
     "execution_count": 20,
     "metadata": {},
     "output_type": "execute_result"
    }
   ],
   "source": [
    "trainer.train()\n"
   ]
  },
  {
   "cell_type": "code",
   "execution_count": 21,
   "metadata": {
    "id": "A1vSTBJ4H8r2"
   },
   "outputs": [
    {
     "data": {
      "application/vnd.jupyter.widget-view+json": {
       "model_id": "8f008bda83fa486ea15dde6c582678c9",
       "version_major": 2,
       "version_minor": 0
      },
      "text/plain": [
       "  0%|          | 0/77 [00:00<?, ?it/s]"
      ]
     },
     "metadata": {},
     "output_type": "display_data"
    }
   ],
   "source": [
    "validation_results  = trainer.evaluate(eval_dataset=tokenized_datasets['validation'])"
   ]
  },
  {
   "cell_type": "code",
   "execution_count": 22,
   "metadata": {
    "id": "wUl5DQOCR9DW"
   },
   "outputs": [
    {
     "data": {
      "application/vnd.jupyter.widget-view+json": {
       "model_id": "d56b908abdf1486c8d8183056310183b",
       "version_major": 2,
       "version_minor": 0
      },
      "text/plain": [
       "  0%|          | 0/78 [00:00<?, ?it/s]"
      ]
     },
     "metadata": {},
     "output_type": "display_data"
    }
   ],
   "source": [
    "test_results = trainer.evaluate(eval_dataset=tokenized_datasets['test'])"
   ]
  },
  {
   "cell_type": "code",
   "execution_count": 23,
   "metadata": {},
   "outputs": [],
   "source": [
    "#print(test_results['eval_classification_report'])"
   ]
  },
  {
   "cell_type": "code",
   "execution_count": 24,
   "metadata": {
    "id": "WRCCgGymH8r3"
   },
   "outputs": [
    {
     "data": {
      "application/vnd.jupyter.widget-view+json": {
       "model_id": "6db3179f208649aca684117cfee9a05c",
       "version_major": 2,
       "version_minor": 0
      },
      "text/plain": [
       "  0%|          | 0/103 [00:00<?, ?it/s]"
      ]
     },
     "metadata": {},
     "output_type": "display_data"
    }
   ],
   "source": [
    "train_results = trainer.evaluate(eval_dataset=tokenized_datasets['train'])"
   ]
  },
  {
   "cell_type": "code",
   "execution_count": 25,
   "metadata": {
    "id": "hqkGbQEhH8r3"
   },
   "outputs": [
    {
     "data": {
      "text/plain": [
       "================================================================================\n",
       "Layer (type:depth-idx)                                  Param #\n",
       "================================================================================\n",
       "DistilBertForTokenClassification                        --\n",
       "├─DistilBertModel: 1-1                                  --\n",
       "│    └─Embeddings: 2-1                                  --\n",
       "│    │    └─Embedding: 3-1                              22,268,928\n",
       "│    │    └─Embedding: 3-2                              393,216\n",
       "│    │    └─LayerNorm: 3-3                              1,536\n",
       "│    │    └─Dropout: 3-4                                --\n",
       "│    └─Transformer: 2-2                                 --\n",
       "│    │    └─ModuleList: 3-5                             42,527,232\n",
       "├─Dropout: 1-2                                          --\n",
       "├─Linear: 1-3                                           8,459\n",
       "================================================================================\n",
       "Total params: 65,199,371\n",
       "Trainable params: 65,199,371\n",
       "Non-trainable params: 0\n",
       "================================================================================"
      ]
     },
     "execution_count": 25,
     "metadata": {},
     "output_type": "execute_result"
    }
   ],
   "source": [
    "#!pip install torchinfo\n",
    "from torchinfo import summary\n",
    "summary(model)"
   ]
  },
  {
   "cell_type": "code",
   "execution_count": 26,
   "metadata": {},
   "outputs": [
    {
     "name": "stdout",
     "output_type": "stream",
     "text": [
      "              precision    recall  f1-score   support\n",
      "\n",
      "        ANIM       0.97      0.95      0.96       359\n",
      "         DIS       0.92      0.88      0.90       228\n",
      "         LOC       1.00      1.00      1.00      1442\n",
      "         ORG       1.00      1.00      1.00       654\n",
      "         PER       1.00      1.00      1.00      1515\n",
      "\n",
      "   micro avg       0.99      0.99      0.99      4198\n",
      "   macro avg       0.98      0.97      0.97      4198\n",
      "weighted avg       0.99      0.99      0.99      4198\n",
      "\n",
      "              precision    recall  f1-score   support\n",
      "\n",
      "        ANIM       0.53      0.38      0.44       151\n",
      "         DIS       0.56      0.43      0.49       250\n",
      "         LOC       0.96      0.98      0.97      1195\n",
      "         ORG       0.91      0.88      0.90       404\n",
      "         PER       0.98      0.98      0.98      1122\n",
      "\n",
      "   micro avg       0.92      0.89      0.91      3122\n",
      "   macro avg       0.79      0.73      0.75      3122\n",
      "weighted avg       0.91      0.89      0.90      3122\n",
      "\n",
      "              precision    recall  f1-score   support\n",
      "\n",
      "        ANIM       0.49      0.50      0.49       246\n",
      "         DIS       0.70      0.46      0.56       126\n",
      "         LOC       0.96      0.97      0.96      1748\n",
      "         ORG       0.87      0.89      0.88       491\n",
      "         PER       0.96      0.98      0.97       841\n",
      "\n",
      "   micro avg       0.91      0.91      0.91      3452\n",
      "   macro avg       0.80      0.76      0.77      3452\n",
      "weighted avg       0.91      0.91      0.91      3452\n",
      "\n"
     ]
    }
   ],
   "source": [
    "print(train_results['eval_classification_report'])\n",
    "print(validation_results['eval_classification_report'])\n",
    "print(test_results['eval_classification_report'])"
   ]
  },
  {
   "cell_type": "code",
   "execution_count": 27,
   "metadata": {},
   "outputs": [],
   "source": [
    "trainer.save_model(\"Models\\\\Best model distillbert after 10 epochs - SystemB\")"
   ]
  }
 ],
 "metadata": {
  "colab": {
   "provenance": []
  },
  "kernelspec": {
   "display_name": "Python 3 (ipykernel)",
   "language": "python",
   "name": "python3"
  },
  "language_info": {
   "codemirror_mode": {
    "name": "ipython",
    "version": 3
   },
   "file_extension": ".py",
   "mimetype": "text/x-python",
   "name": "python",
   "nbconvert_exporter": "python",
   "pygments_lexer": "ipython3",
   "version": "3.11.4"
  },
  "widgets": {
   "application/vnd.jupyter.widget-state+json": {
    "074e7aa290144e4982020beee4eee092": {
     "model_module": "@jupyter-widgets/base",
     "model_module_version": "1.2.0",
     "model_name": "LayoutModel",
     "state": {
      "_model_module": "@jupyter-widgets/base",
      "_model_module_version": "1.2.0",
      "_model_name": "LayoutModel",
      "_view_count": null,
      "_view_module": "@jupyter-widgets/base",
      "_view_module_version": "1.2.0",
      "_view_name": "LayoutView",
      "align_content": null,
      "align_items": null,
      "align_self": null,
      "border": null,
      "bottom": null,
      "display": null,
      "flex": null,
      "flex_flow": null,
      "grid_area": null,
      "grid_auto_columns": null,
      "grid_auto_flow": null,
      "grid_auto_rows": null,
      "grid_column": null,
      "grid_gap": null,
      "grid_row": null,
      "grid_template_areas": null,
      "grid_template_columns": null,
      "grid_template_rows": null,
      "height": null,
      "justify_content": null,
      "justify_items": null,
      "left": null,
      "margin": null,
      "max_height": null,
      "max_width": null,
      "min_height": null,
      "min_width": null,
      "object_fit": null,
      "object_position": null,
      "order": null,
      "overflow": null,
      "overflow_x": null,
      "overflow_y": null,
      "padding": null,
      "right": null,
      "top": null,
      "visibility": null,
      "width": null
     }
    },
    "097535575f194d3fbf370752a434508e": {
     "model_module": "@jupyter-widgets/base",
     "model_module_version": "1.2.0",
     "model_name": "LayoutModel",
     "state": {
      "_model_module": "@jupyter-widgets/base",
      "_model_module_version": "1.2.0",
      "_model_name": "LayoutModel",
      "_view_count": null,
      "_view_module": "@jupyter-widgets/base",
      "_view_module_version": "1.2.0",
      "_view_name": "LayoutView",
      "align_content": null,
      "align_items": null,
      "align_self": null,
      "border": null,
      "bottom": null,
      "display": null,
      "flex": null,
      "flex_flow": null,
      "grid_area": null,
      "grid_auto_columns": null,
      "grid_auto_flow": null,
      "grid_auto_rows": null,
      "grid_column": null,
      "grid_gap": null,
      "grid_row": null,
      "grid_template_areas": null,
      "grid_template_columns": null,
      "grid_template_rows": null,
      "height": null,
      "justify_content": null,
      "justify_items": null,
      "left": null,
      "margin": null,
      "max_height": null,
      "max_width": null,
      "min_height": null,
      "min_width": null,
      "object_fit": null,
      "object_position": null,
      "order": null,
      "overflow": null,
      "overflow_x": null,
      "overflow_y": null,
      "padding": null,
      "right": null,
      "top": null,
      "visibility": null,
      "width": null
     }
    },
    "0e68a595c5124265ba7f591ae14ffdd4": {
     "model_module": "@jupyter-widgets/controls",
     "model_module_version": "1.5.0",
     "model_name": "DescriptionStyleModel",
     "state": {
      "_model_module": "@jupyter-widgets/controls",
      "_model_module_version": "1.5.0",
      "_model_name": "DescriptionStyleModel",
      "_view_count": null,
      "_view_module": "@jupyter-widgets/base",
      "_view_module_version": "1.2.0",
      "_view_name": "StyleView",
      "description_width": ""
     }
    },
    "1544268bf6c94dbfa8952080676c5c21": {
     "model_module": "@jupyter-widgets/controls",
     "model_module_version": "1.5.0",
     "model_name": "ProgressStyleModel",
     "state": {
      "_model_module": "@jupyter-widgets/controls",
      "_model_module_version": "1.5.0",
      "_model_name": "ProgressStyleModel",
      "_view_count": null,
      "_view_module": "@jupyter-widgets/base",
      "_view_module_version": "1.2.0",
      "_view_name": "StyleView",
      "bar_color": null,
      "description_width": ""
     }
    },
    "166cde47b7e84eb4a740c7139cccefc8": {
     "model_module": "@jupyter-widgets/base",
     "model_module_version": "1.2.0",
     "model_name": "LayoutModel",
     "state": {
      "_model_module": "@jupyter-widgets/base",
      "_model_module_version": "1.2.0",
      "_model_name": "LayoutModel",
      "_view_count": null,
      "_view_module": "@jupyter-widgets/base",
      "_view_module_version": "1.2.0",
      "_view_name": "LayoutView",
      "align_content": null,
      "align_items": null,
      "align_self": null,
      "border": null,
      "bottom": null,
      "display": null,
      "flex": null,
      "flex_flow": null,
      "grid_area": null,
      "grid_auto_columns": null,
      "grid_auto_flow": null,
      "grid_auto_rows": null,
      "grid_column": null,
      "grid_gap": null,
      "grid_row": null,
      "grid_template_areas": null,
      "grid_template_columns": null,
      "grid_template_rows": null,
      "height": null,
      "justify_content": null,
      "justify_items": null,
      "left": null,
      "margin": null,
      "max_height": null,
      "max_width": null,
      "min_height": null,
      "min_width": null,
      "object_fit": null,
      "object_position": null,
      "order": null,
      "overflow": null,
      "overflow_x": null,
      "overflow_y": null,
      "padding": null,
      "right": null,
      "top": null,
      "visibility": null,
      "width": null
     }
    },
    "194497f41c984b7ba3128ccb5aa9f5af": {
     "model_module": "@jupyter-widgets/controls",
     "model_module_version": "1.5.0",
     "model_name": "ProgressStyleModel",
     "state": {
      "_model_module": "@jupyter-widgets/controls",
      "_model_module_version": "1.5.0",
      "_model_name": "ProgressStyleModel",
      "_view_count": null,
      "_view_module": "@jupyter-widgets/base",
      "_view_module_version": "1.2.0",
      "_view_name": "StyleView",
      "bar_color": null,
      "description_width": ""
     }
    },
    "195f4da31920466c98168e7dfe9afe9f": {
     "model_module": "@jupyter-widgets/base",
     "model_module_version": "1.2.0",
     "model_name": "LayoutModel",
     "state": {
      "_model_module": "@jupyter-widgets/base",
      "_model_module_version": "1.2.0",
      "_model_name": "LayoutModel",
      "_view_count": null,
      "_view_module": "@jupyter-widgets/base",
      "_view_module_version": "1.2.0",
      "_view_name": "LayoutView",
      "align_content": null,
      "align_items": null,
      "align_self": null,
      "border": null,
      "bottom": null,
      "display": null,
      "flex": null,
      "flex_flow": null,
      "grid_area": null,
      "grid_auto_columns": null,
      "grid_auto_flow": null,
      "grid_auto_rows": null,
      "grid_column": null,
      "grid_gap": null,
      "grid_row": null,
      "grid_template_areas": null,
      "grid_template_columns": null,
      "grid_template_rows": null,
      "height": null,
      "justify_content": null,
      "justify_items": null,
      "left": null,
      "margin": null,
      "max_height": null,
      "max_width": null,
      "min_height": null,
      "min_width": null,
      "object_fit": null,
      "object_position": null,
      "order": null,
      "overflow": null,
      "overflow_x": null,
      "overflow_y": null,
      "padding": null,
      "right": null,
      "top": null,
      "visibility": null,
      "width": null
     }
    },
    "24e99868fe0b477b9d696b049c1c612b": {
     "model_module": "@jupyter-widgets/controls",
     "model_module_version": "1.5.0",
     "model_name": "FloatProgressModel",
     "state": {
      "_dom_classes": [],
      "_model_module": "@jupyter-widgets/controls",
      "_model_module_version": "1.5.0",
      "_model_name": "FloatProgressModel",
      "_view_count": null,
      "_view_module": "@jupyter-widgets/controls",
      "_view_module_version": "1.5.0",
      "_view_name": "ProgressView",
      "bar_style": "success",
      "description": "",
      "description_tooltip": null,
      "layout": "IPY_MODEL_2588cf3ef2dc4d609dfe79985e39f226",
      "max": 131280,
      "min": 0,
      "orientation": "horizontal",
      "style": "IPY_MODEL_194497f41c984b7ba3128ccb5aa9f5af",
      "value": 131280
     }
    },
    "2588cf3ef2dc4d609dfe79985e39f226": {
     "model_module": "@jupyter-widgets/base",
     "model_module_version": "1.2.0",
     "model_name": "LayoutModel",
     "state": {
      "_model_module": "@jupyter-widgets/base",
      "_model_module_version": "1.2.0",
      "_model_name": "LayoutModel",
      "_view_count": null,
      "_view_module": "@jupyter-widgets/base",
      "_view_module_version": "1.2.0",
      "_view_name": "LayoutView",
      "align_content": null,
      "align_items": null,
      "align_self": null,
      "border": null,
      "bottom": null,
      "display": null,
      "flex": null,
      "flex_flow": null,
      "grid_area": null,
      "grid_auto_columns": null,
      "grid_auto_flow": null,
      "grid_auto_rows": null,
      "grid_column": null,
      "grid_gap": null,
      "grid_row": null,
      "grid_template_areas": null,
      "grid_template_columns": null,
      "grid_template_rows": null,
      "height": null,
      "justify_content": null,
      "justify_items": null,
      "left": null,
      "margin": null,
      "max_height": null,
      "max_width": null,
      "min_height": null,
      "min_width": null,
      "object_fit": null,
      "object_position": null,
      "order": null,
      "overflow": null,
      "overflow_x": null,
      "overflow_y": null,
      "padding": null,
      "right": null,
      "top": null,
      "visibility": null,
      "width": null
     }
    },
    "478562af9481401d9a74726742ecea13": {
     "model_module": "@jupyter-widgets/controls",
     "model_module_version": "1.5.0",
     "model_name": "ProgressStyleModel",
     "state": {
      "_model_module": "@jupyter-widgets/controls",
      "_model_module_version": "1.5.0",
      "_model_name": "ProgressStyleModel",
      "_view_count": null,
      "_view_module": "@jupyter-widgets/base",
      "_view_module_version": "1.2.0",
      "_view_name": "StyleView",
      "bar_color": null,
      "description_width": ""
     }
    },
    "4b63115810564435a73cda9e0e8901af": {
     "model_module": "@jupyter-widgets/base",
     "model_module_version": "1.2.0",
     "model_name": "LayoutModel",
     "state": {
      "_model_module": "@jupyter-widgets/base",
      "_model_module_version": "1.2.0",
      "_model_name": "LayoutModel",
      "_view_count": null,
      "_view_module": "@jupyter-widgets/base",
      "_view_module_version": "1.2.0",
      "_view_name": "LayoutView",
      "align_content": null,
      "align_items": null,
      "align_self": null,
      "border": null,
      "bottom": null,
      "display": null,
      "flex": null,
      "flex_flow": null,
      "grid_area": null,
      "grid_auto_columns": null,
      "grid_auto_flow": null,
      "grid_auto_rows": null,
      "grid_column": null,
      "grid_gap": null,
      "grid_row": null,
      "grid_template_areas": null,
      "grid_template_columns": null,
      "grid_template_rows": null,
      "height": null,
      "justify_content": null,
      "justify_items": null,
      "left": null,
      "margin": null,
      "max_height": null,
      "max_width": null,
      "min_height": null,
      "min_width": null,
      "object_fit": null,
      "object_position": null,
      "order": null,
      "overflow": null,
      "overflow_x": null,
      "overflow_y": null,
      "padding": null,
      "right": null,
      "top": null,
      "visibility": null,
      "width": null
     }
    },
    "515826e234114fbf9627b7928f499aba": {
     "model_module": "@jupyter-widgets/controls",
     "model_module_version": "1.5.0",
     "model_name": "DescriptionStyleModel",
     "state": {
      "_model_module": "@jupyter-widgets/controls",
      "_model_module_version": "1.5.0",
      "_model_name": "DescriptionStyleModel",
      "_view_count": null,
      "_view_module": "@jupyter-widgets/base",
      "_view_module_version": "1.2.0",
      "_view_name": "StyleView",
      "description_width": ""
     }
    },
    "535a578cc51146f09b3784059896d5c0": {
     "model_module": "@jupyter-widgets/controls",
     "model_module_version": "1.5.0",
     "model_name": "DescriptionStyleModel",
     "state": {
      "_model_module": "@jupyter-widgets/controls",
      "_model_module_version": "1.5.0",
      "_model_name": "DescriptionStyleModel",
      "_view_count": null,
      "_view_module": "@jupyter-widgets/base",
      "_view_module_version": "1.2.0",
      "_view_name": "StyleView",
      "description_width": ""
     }
    },
    "546f7ac4274841a293abd6d397601c97": {
     "model_module": "@jupyter-widgets/controls",
     "model_module_version": "1.5.0",
     "model_name": "HTMLModel",
     "state": {
      "_dom_classes": [],
      "_model_module": "@jupyter-widgets/controls",
      "_model_module_version": "1.5.0",
      "_model_name": "HTMLModel",
      "_view_count": null,
      "_view_module": "@jupyter-widgets/controls",
      "_view_module_version": "1.5.0",
      "_view_name": "HTMLView",
      "description": "",
      "description_tooltip": null,
      "layout": "IPY_MODEL_166cde47b7e84eb4a740c7139cccefc8",
      "placeholder": "​",
      "style": "IPY_MODEL_515826e234114fbf9627b7928f499aba",
      "value": " 16410/16410 [00:06&lt;00:00, 2200.65 examples/s]"
     }
    },
    "59ff2238ba93470db36c154c3319c645": {
     "model_module": "@jupyter-widgets/controls",
     "model_module_version": "1.5.0",
     "model_name": "HTMLModel",
     "state": {
      "_dom_classes": [],
      "_model_module": "@jupyter-widgets/controls",
      "_model_module_version": "1.5.0",
      "_model_name": "HTMLModel",
      "_view_count": null,
      "_view_module": "@jupyter-widgets/controls",
      "_view_module_version": "1.5.0",
      "_view_name": "HTMLView",
      "description": "",
      "description_tooltip": null,
      "layout": "IPY_MODEL_195f4da31920466c98168e7dfe9afe9f",
      "placeholder": "​",
      "style": "IPY_MODEL_0e68a595c5124265ba7f591ae14ffdd4",
      "value": " 131280/131280 [00:42&lt;00:00, 3282.76 examples/s]"
     }
    },
    "5d5682a9539d4da59cdb629b75b3d183": {
     "model_module": "@jupyter-widgets/controls",
     "model_module_version": "1.5.0",
     "model_name": "HBoxModel",
     "state": {
      "_dom_classes": [],
      "_model_module": "@jupyter-widgets/controls",
      "_model_module_version": "1.5.0",
      "_model_name": "HBoxModel",
      "_view_count": null,
      "_view_module": "@jupyter-widgets/controls",
      "_view_module_version": "1.5.0",
      "_view_name": "HBoxView",
      "box_style": "",
      "children": [
       "IPY_MODEL_afcd8c435b47481ea180d363b55c6b62",
       "IPY_MODEL_b4319fe6cc774c48b7aa2ed590990114",
       "IPY_MODEL_a6b2680d2f9540e095e4a59436e2157f"
      ],
      "layout": "IPY_MODEL_097535575f194d3fbf370752a434508e"
     }
    },
    "673e2347653e4136867f23e548a1a6d9": {
     "model_module": "@jupyter-widgets/base",
     "model_module_version": "1.2.0",
     "model_name": "LayoutModel",
     "state": {
      "_model_module": "@jupyter-widgets/base",
      "_model_module_version": "1.2.0",
      "_model_name": "LayoutModel",
      "_view_count": null,
      "_view_module": "@jupyter-widgets/base",
      "_view_module_version": "1.2.0",
      "_view_name": "LayoutView",
      "align_content": null,
      "align_items": null,
      "align_self": null,
      "border": null,
      "bottom": null,
      "display": null,
      "flex": null,
      "flex_flow": null,
      "grid_area": null,
      "grid_auto_columns": null,
      "grid_auto_flow": null,
      "grid_auto_rows": null,
      "grid_column": null,
      "grid_gap": null,
      "grid_row": null,
      "grid_template_areas": null,
      "grid_template_columns": null,
      "grid_template_rows": null,
      "height": null,
      "justify_content": null,
      "justify_items": null,
      "left": null,
      "margin": null,
      "max_height": null,
      "max_width": null,
      "min_height": null,
      "min_width": null,
      "object_fit": null,
      "object_position": null,
      "order": null,
      "overflow": null,
      "overflow_x": null,
      "overflow_y": null,
      "padding": null,
      "right": null,
      "top": null,
      "visibility": null,
      "width": null
     }
    },
    "7a5fdf4d74b5479e99c89b50e64abad4": {
     "model_module": "@jupyter-widgets/base",
     "model_module_version": "1.2.0",
     "model_name": "LayoutModel",
     "state": {
      "_model_module": "@jupyter-widgets/base",
      "_model_module_version": "1.2.0",
      "_model_name": "LayoutModel",
      "_view_count": null,
      "_view_module": "@jupyter-widgets/base",
      "_view_module_version": "1.2.0",
      "_view_name": "LayoutView",
      "align_content": null,
      "align_items": null,
      "align_self": null,
      "border": null,
      "bottom": null,
      "display": null,
      "flex": null,
      "flex_flow": null,
      "grid_area": null,
      "grid_auto_columns": null,
      "grid_auto_flow": null,
      "grid_auto_rows": null,
      "grid_column": null,
      "grid_gap": null,
      "grid_row": null,
      "grid_template_areas": null,
      "grid_template_columns": null,
      "grid_template_rows": null,
      "height": null,
      "justify_content": null,
      "justify_items": null,
      "left": null,
      "margin": null,
      "max_height": null,
      "max_width": null,
      "min_height": null,
      "min_width": null,
      "object_fit": null,
      "object_position": null,
      "order": null,
      "overflow": null,
      "overflow_x": null,
      "overflow_y": null,
      "padding": null,
      "right": null,
      "top": null,
      "visibility": null,
      "width": null
     }
    },
    "83d8241318d940c78f9f75e32a81119b": {
     "model_module": "@jupyter-widgets/base",
     "model_module_version": "1.2.0",
     "model_name": "LayoutModel",
     "state": {
      "_model_module": "@jupyter-widgets/base",
      "_model_module_version": "1.2.0",
      "_model_name": "LayoutModel",
      "_view_count": null,
      "_view_module": "@jupyter-widgets/base",
      "_view_module_version": "1.2.0",
      "_view_name": "LayoutView",
      "align_content": null,
      "align_items": null,
      "align_self": null,
      "border": null,
      "bottom": null,
      "display": null,
      "flex": null,
      "flex_flow": null,
      "grid_area": null,
      "grid_auto_columns": null,
      "grid_auto_flow": null,
      "grid_auto_rows": null,
      "grid_column": null,
      "grid_gap": null,
      "grid_row": null,
      "grid_template_areas": null,
      "grid_template_columns": null,
      "grid_template_rows": null,
      "height": null,
      "justify_content": null,
      "justify_items": null,
      "left": null,
      "margin": null,
      "max_height": null,
      "max_width": null,
      "min_height": null,
      "min_width": null,
      "object_fit": null,
      "object_position": null,
      "order": null,
      "overflow": null,
      "overflow_x": null,
      "overflow_y": null,
      "padding": null,
      "right": null,
      "top": null,
      "visibility": null,
      "width": null
     }
    },
    "946cac72d1274134b7152df833837ae6": {
     "model_module": "@jupyter-widgets/base",
     "model_module_version": "1.2.0",
     "model_name": "LayoutModel",
     "state": {
      "_model_module": "@jupyter-widgets/base",
      "_model_module_version": "1.2.0",
      "_model_name": "LayoutModel",
      "_view_count": null,
      "_view_module": "@jupyter-widgets/base",
      "_view_module_version": "1.2.0",
      "_view_name": "LayoutView",
      "align_content": null,
      "align_items": null,
      "align_self": null,
      "border": null,
      "bottom": null,
      "display": null,
      "flex": null,
      "flex_flow": null,
      "grid_area": null,
      "grid_auto_columns": null,
      "grid_auto_flow": null,
      "grid_auto_rows": null,
      "grid_column": null,
      "grid_gap": null,
      "grid_row": null,
      "grid_template_areas": null,
      "grid_template_columns": null,
      "grid_template_rows": null,
      "height": null,
      "justify_content": null,
      "justify_items": null,
      "left": null,
      "margin": null,
      "max_height": null,
      "max_width": null,
      "min_height": null,
      "min_width": null,
      "object_fit": null,
      "object_position": null,
      "order": null,
      "overflow": null,
      "overflow_x": null,
      "overflow_y": null,
      "padding": null,
      "right": null,
      "top": null,
      "visibility": null,
      "width": null
     }
    },
    "a099f6569fda45609086417463084507": {
     "model_module": "@jupyter-widgets/controls",
     "model_module_version": "1.5.0",
     "model_name": "DescriptionStyleModel",
     "state": {
      "_model_module": "@jupyter-widgets/controls",
      "_model_module_version": "1.5.0",
      "_model_name": "DescriptionStyleModel",
      "_view_count": null,
      "_view_module": "@jupyter-widgets/base",
      "_view_module_version": "1.2.0",
      "_view_name": "StyleView",
      "description_width": ""
     }
    },
    "a6b2680d2f9540e095e4a59436e2157f": {
     "model_module": "@jupyter-widgets/controls",
     "model_module_version": "1.5.0",
     "model_name": "HTMLModel",
     "state": {
      "_dom_classes": [],
      "_model_module": "@jupyter-widgets/controls",
      "_model_module_version": "1.5.0",
      "_model_name": "HTMLModel",
      "_view_count": null,
      "_view_module": "@jupyter-widgets/controls",
      "_view_module_version": "1.5.0",
      "_view_name": "HTMLView",
      "description": "",
      "description_tooltip": null,
      "layout": "IPY_MODEL_946cac72d1274134b7152df833837ae6",
      "placeholder": "​",
      "style": "IPY_MODEL_e1bf13e1427e410b947f25133c370e5c",
      "value": " 16454/16454 [00:06&lt;00:00, 3300.02 examples/s]"
     }
    },
    "afcd8c435b47481ea180d363b55c6b62": {
     "model_module": "@jupyter-widgets/controls",
     "model_module_version": "1.5.0",
     "model_name": "HTMLModel",
     "state": {
      "_dom_classes": [],
      "_model_module": "@jupyter-widgets/controls",
      "_model_module_version": "1.5.0",
      "_model_name": "HTMLModel",
      "_view_count": null,
      "_view_module": "@jupyter-widgets/controls",
      "_view_module_version": "1.5.0",
      "_view_name": "HTMLView",
      "description": "",
      "description_tooltip": null,
      "layout": "IPY_MODEL_83d8241318d940c78f9f75e32a81119b",
      "placeholder": "​",
      "style": "IPY_MODEL_a099f6569fda45609086417463084507",
      "value": "Map: 100%"
     }
    },
    "b4319fe6cc774c48b7aa2ed590990114": {
     "model_module": "@jupyter-widgets/controls",
     "model_module_version": "1.5.0",
     "model_name": "FloatProgressModel",
     "state": {
      "_dom_classes": [],
      "_model_module": "@jupyter-widgets/controls",
      "_model_module_version": "1.5.0",
      "_model_name": "FloatProgressModel",
      "_view_count": null,
      "_view_module": "@jupyter-widgets/controls",
      "_view_module_version": "1.5.0",
      "_view_name": "ProgressView",
      "bar_style": "success",
      "description": "",
      "description_tooltip": null,
      "layout": "IPY_MODEL_673e2347653e4136867f23e548a1a6d9",
      "max": 16454,
      "min": 0,
      "orientation": "horizontal",
      "style": "IPY_MODEL_1544268bf6c94dbfa8952080676c5c21",
      "value": 16454
     }
    },
    "b90c1b4de72e449eb98000e85f90aed8": {
     "model_module": "@jupyter-widgets/controls",
     "model_module_version": "1.5.0",
     "model_name": "HTMLModel",
     "state": {
      "_dom_classes": [],
      "_model_module": "@jupyter-widgets/controls",
      "_model_module_version": "1.5.0",
      "_model_name": "HTMLModel",
      "_view_count": null,
      "_view_module": "@jupyter-widgets/controls",
      "_view_module_version": "1.5.0",
      "_view_name": "HTMLView",
      "description": "",
      "description_tooltip": null,
      "layout": "IPY_MODEL_7a5fdf4d74b5479e99c89b50e64abad4",
      "placeholder": "​",
      "style": "IPY_MODEL_535a578cc51146f09b3784059896d5c0",
      "value": "Map: 100%"
     }
    },
    "c6f477f508aa40e8b01831e2b0ee2e15": {
     "model_module": "@jupyter-widgets/base",
     "model_module_version": "1.2.0",
     "model_name": "LayoutModel",
     "state": {
      "_model_module": "@jupyter-widgets/base",
      "_model_module_version": "1.2.0",
      "_model_name": "LayoutModel",
      "_view_count": null,
      "_view_module": "@jupyter-widgets/base",
      "_view_module_version": "1.2.0",
      "_view_name": "LayoutView",
      "align_content": null,
      "align_items": null,
      "align_self": null,
      "border": null,
      "bottom": null,
      "display": null,
      "flex": null,
      "flex_flow": null,
      "grid_area": null,
      "grid_auto_columns": null,
      "grid_auto_flow": null,
      "grid_auto_rows": null,
      "grid_column": null,
      "grid_gap": null,
      "grid_row": null,
      "grid_template_areas": null,
      "grid_template_columns": null,
      "grid_template_rows": null,
      "height": null,
      "justify_content": null,
      "justify_items": null,
      "left": null,
      "margin": null,
      "max_height": null,
      "max_width": null,
      "min_height": null,
      "min_width": null,
      "object_fit": null,
      "object_position": null,
      "order": null,
      "overflow": null,
      "overflow_x": null,
      "overflow_y": null,
      "padding": null,
      "right": null,
      "top": null,
      "visibility": null,
      "width": null
     }
    },
    "e1bf13e1427e410b947f25133c370e5c": {
     "model_module": "@jupyter-widgets/controls",
     "model_module_version": "1.5.0",
     "model_name": "DescriptionStyleModel",
     "state": {
      "_model_module": "@jupyter-widgets/controls",
      "_model_module_version": "1.5.0",
      "_model_name": "DescriptionStyleModel",
      "_view_count": null,
      "_view_module": "@jupyter-widgets/base",
      "_view_module_version": "1.2.0",
      "_view_name": "StyleView",
      "description_width": ""
     }
    },
    "e2344ec0e3b44c3db26f76d257e56e82": {
     "model_module": "@jupyter-widgets/controls",
     "model_module_version": "1.5.0",
     "model_name": "FloatProgressModel",
     "state": {
      "_dom_classes": [],
      "_model_module": "@jupyter-widgets/controls",
      "_model_module_version": "1.5.0",
      "_model_name": "FloatProgressModel",
      "_view_count": null,
      "_view_module": "@jupyter-widgets/controls",
      "_view_module_version": "1.5.0",
      "_view_name": "ProgressView",
      "bar_style": "success",
      "description": "",
      "description_tooltip": null,
      "layout": "IPY_MODEL_f5741e71e3a4418b9d45cc8b11572f4b",
      "max": 16410,
      "min": 0,
      "orientation": "horizontal",
      "style": "IPY_MODEL_478562af9481401d9a74726742ecea13",
      "value": 16410
     }
    },
    "e853e4302c004a4cb12d15f9282cfbf5": {
     "model_module": "@jupyter-widgets/controls",
     "model_module_version": "1.5.0",
     "model_name": "HTMLModel",
     "state": {
      "_dom_classes": [],
      "_model_module": "@jupyter-widgets/controls",
      "_model_module_version": "1.5.0",
      "_model_name": "HTMLModel",
      "_view_count": null,
      "_view_module": "@jupyter-widgets/controls",
      "_view_module_version": "1.5.0",
      "_view_name": "HTMLView",
      "description": "",
      "description_tooltip": null,
      "layout": "IPY_MODEL_c6f477f508aa40e8b01831e2b0ee2e15",
      "placeholder": "​",
      "style": "IPY_MODEL_eab594ff9d4947f3b2b0971a4aadab42",
      "value": "Map: 100%"
     }
    },
    "eab594ff9d4947f3b2b0971a4aadab42": {
     "model_module": "@jupyter-widgets/controls",
     "model_module_version": "1.5.0",
     "model_name": "DescriptionStyleModel",
     "state": {
      "_model_module": "@jupyter-widgets/controls",
      "_model_module_version": "1.5.0",
      "_model_name": "DescriptionStyleModel",
      "_view_count": null,
      "_view_module": "@jupyter-widgets/base",
      "_view_module_version": "1.2.0",
      "_view_name": "StyleView",
      "description_width": ""
     }
    },
    "f5741e71e3a4418b9d45cc8b11572f4b": {
     "model_module": "@jupyter-widgets/base",
     "model_module_version": "1.2.0",
     "model_name": "LayoutModel",
     "state": {
      "_model_module": "@jupyter-widgets/base",
      "_model_module_version": "1.2.0",
      "_model_name": "LayoutModel",
      "_view_count": null,
      "_view_module": "@jupyter-widgets/base",
      "_view_module_version": "1.2.0",
      "_view_name": "LayoutView",
      "align_content": null,
      "align_items": null,
      "align_self": null,
      "border": null,
      "bottom": null,
      "display": null,
      "flex": null,
      "flex_flow": null,
      "grid_area": null,
      "grid_auto_columns": null,
      "grid_auto_flow": null,
      "grid_auto_rows": null,
      "grid_column": null,
      "grid_gap": null,
      "grid_row": null,
      "grid_template_areas": null,
      "grid_template_columns": null,
      "grid_template_rows": null,
      "height": null,
      "justify_content": null,
      "justify_items": null,
      "left": null,
      "margin": null,
      "max_height": null,
      "max_width": null,
      "min_height": null,
      "min_width": null,
      "object_fit": null,
      "object_position": null,
      "order": null,
      "overflow": null,
      "overflow_x": null,
      "overflow_y": null,
      "padding": null,
      "right": null,
      "top": null,
      "visibility": null,
      "width": null
     }
    },
    "fabcbffaee84405c8a8e0e48cfe1a6c9": {
     "model_module": "@jupyter-widgets/controls",
     "model_module_version": "1.5.0",
     "model_name": "HBoxModel",
     "state": {
      "_dom_classes": [],
      "_model_module": "@jupyter-widgets/controls",
      "_model_module_version": "1.5.0",
      "_model_name": "HBoxModel",
      "_view_count": null,
      "_view_module": "@jupyter-widgets/controls",
      "_view_module_version": "1.5.0",
      "_view_name": "HBoxView",
      "box_style": "",
      "children": [
       "IPY_MODEL_e853e4302c004a4cb12d15f9282cfbf5",
       "IPY_MODEL_24e99868fe0b477b9d696b049c1c612b",
       "IPY_MODEL_59ff2238ba93470db36c154c3319c645"
      ],
      "layout": "IPY_MODEL_074e7aa290144e4982020beee4eee092"
     }
    },
    "fe7d87f990f74207b8ece9c6dca31a0a": {
     "model_module": "@jupyter-widgets/controls",
     "model_module_version": "1.5.0",
     "model_name": "HBoxModel",
     "state": {
      "_dom_classes": [],
      "_model_module": "@jupyter-widgets/controls",
      "_model_module_version": "1.5.0",
      "_model_name": "HBoxModel",
      "_view_count": null,
      "_view_module": "@jupyter-widgets/controls",
      "_view_module_version": "1.5.0",
      "_view_name": "HBoxView",
      "box_style": "",
      "children": [
       "IPY_MODEL_b90c1b4de72e449eb98000e85f90aed8",
       "IPY_MODEL_e2344ec0e3b44c3db26f76d257e56e82",
       "IPY_MODEL_546f7ac4274841a293abd6d397601c97"
      ],
      "layout": "IPY_MODEL_4b63115810564435a73cda9e0e8901af"
     }
    }
   }
  }
 },
 "nbformat": 4,
 "nbformat_minor": 4
}
